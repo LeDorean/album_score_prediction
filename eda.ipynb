{
 "cells": [
  {
   "cell_type": "code",
   "execution_count": 15,
   "metadata": {},
   "outputs": [],
   "source": [
    "#import libraries\n",
    "import pandas as pd\n",
    "import seaborn as sns\n",
    "import matplotlib.pyplot as plt\n",
    "import matplotlib.style as style\n",
    "style.use('fivethirtyeight')\n",
    "import numpy as np\n",
    "from scipy.stats import gaussian_kde"
   ]
  },
  {
   "cell_type": "code",
   "execution_count": 16,
   "metadata": {},
   "outputs": [],
   "source": [
    "#import dataframe\n",
    "album_df = pd.read_pickle('data/album_df.pkl')"
   ]
  },
  {
   "cell_type": "code",
   "execution_count": 17,
   "metadata": {},
   "outputs": [
    {
     "data": {
      "text/html": [
       "<div>\n",
       "<style scoped>\n",
       "    .dataframe tbody tr th:only-of-type {\n",
       "        vertical-align: middle;\n",
       "    }\n",
       "\n",
       "    .dataframe tbody tr th {\n",
       "        vertical-align: top;\n",
       "    }\n",
       "\n",
       "    .dataframe thead th {\n",
       "        text-align: right;\n",
       "    }\n",
       "</style>\n",
       "<table border=\"1\" class=\"dataframe\">\n",
       "  <thead>\n",
       "    <tr style=\"text-align: right;\">\n",
       "      <th></th>\n",
       "      <th>album_run_time_ms</th>\n",
       "      <th>number_of_tracks</th>\n",
       "      <th>std_in_energy</th>\n",
       "      <th>std_in_speechiness</th>\n",
       "      <th>danceability_mean</th>\n",
       "      <th>acousticness_mean</th>\n",
       "      <th>instrumentalness_mean</th>\n",
       "      <th>loudness_mean</th>\n",
       "      <th>tempo_mean</th>\n",
       "      <th>energy_amax</th>\n",
       "      <th>...</th>\n",
       "      <th>valence_amax</th>\n",
       "      <th>tempo_amax</th>\n",
       "      <th>time_signature_amax</th>\n",
       "      <th>popularity_amax</th>\n",
       "      <th>score_amax</th>\n",
       "      <th>num_markets_amax</th>\n",
       "      <th>is_explicit_amax</th>\n",
       "      <th>mode_amax</th>\n",
       "      <th>key_amax</th>\n",
       "      <th>genre</th>\n",
       "    </tr>\n",
       "  </thead>\n",
       "  <tbody>\n",
       "    <tr>\n",
       "      <td>02o1jXAin1PmiYxmln4WnE</td>\n",
       "      <td>1685371.0</td>\n",
       "      <td>10.0</td>\n",
       "      <td>0.210706</td>\n",
       "      <td>0.009939</td>\n",
       "      <td>0.418500</td>\n",
       "      <td>0.080014</td>\n",
       "      <td>0.000862</td>\n",
       "      <td>-5.421200</td>\n",
       "      <td>138.344600</td>\n",
       "      <td>0.915</td>\n",
       "      <td>...</td>\n",
       "      <td>0.932</td>\n",
       "      <td>175.951</td>\n",
       "      <td>4</td>\n",
       "      <td>9.0</td>\n",
       "      <td>6.8</td>\n",
       "      <td>79</td>\n",
       "      <td>False</td>\n",
       "      <td>1.0</td>\n",
       "      <td>11.0</td>\n",
       "      <td>rock</td>\n",
       "    </tr>\n",
       "    <tr>\n",
       "      <td>02sEJTj1sye1JaqxqpcSCp</td>\n",
       "      <td>3143823.0</td>\n",
       "      <td>14.0</td>\n",
       "      <td>0.161621</td>\n",
       "      <td>0.045708</td>\n",
       "      <td>0.601786</td>\n",
       "      <td>0.120152</td>\n",
       "      <td>0.076961</td>\n",
       "      <td>-4.511929</td>\n",
       "      <td>121.551643</td>\n",
       "      <td>0.939</td>\n",
       "      <td>...</td>\n",
       "      <td>0.467</td>\n",
       "      <td>169.987</td>\n",
       "      <td>4</td>\n",
       "      <td>80.0</td>\n",
       "      <td>5.3</td>\n",
       "      <td>76</td>\n",
       "      <td>True</td>\n",
       "      <td>1.0</td>\n",
       "      <td>11.0</td>\n",
       "      <td>electronic</td>\n",
       "    </tr>\n",
       "    <tr>\n",
       "      <td>03CgI5yzuOcyRkkDOyCazP</td>\n",
       "      <td>1998917.0</td>\n",
       "      <td>11.0</td>\n",
       "      <td>0.123559</td>\n",
       "      <td>0.157071</td>\n",
       "      <td>0.417545</td>\n",
       "      <td>0.122944</td>\n",
       "      <td>0.315466</td>\n",
       "      <td>-8.302364</td>\n",
       "      <td>120.664545</td>\n",
       "      <td>0.855</td>\n",
       "      <td>...</td>\n",
       "      <td>0.620</td>\n",
       "      <td>196.424</td>\n",
       "      <td>4</td>\n",
       "      <td>50.0</td>\n",
       "      <td>6.8</td>\n",
       "      <td>78</td>\n",
       "      <td>False</td>\n",
       "      <td>1.0</td>\n",
       "      <td>11.0</td>\n",
       "      <td>electronic</td>\n",
       "    </tr>\n",
       "    <tr>\n",
       "      <td>05vg15zAZuJneWQucqWaIa</td>\n",
       "      <td>1740996.0</td>\n",
       "      <td>10.0</td>\n",
       "      <td>0.053382</td>\n",
       "      <td>0.071112</td>\n",
       "      <td>0.372300</td>\n",
       "      <td>0.000115</td>\n",
       "      <td>0.111160</td>\n",
       "      <td>-4.257100</td>\n",
       "      <td>128.057000</td>\n",
       "      <td>0.943</td>\n",
       "      <td>...</td>\n",
       "      <td>0.713</td>\n",
       "      <td>197.282</td>\n",
       "      <td>4</td>\n",
       "      <td>7.0</td>\n",
       "      <td>6.7</td>\n",
       "      <td>79</td>\n",
       "      <td>False</td>\n",
       "      <td>1.0</td>\n",
       "      <td>11.0</td>\n",
       "      <td>rock</td>\n",
       "    </tr>\n",
       "    <tr>\n",
       "      <td>06qL01wLa4kVWGloqSHDYD</td>\n",
       "      <td>1487559.0</td>\n",
       "      <td>10.0</td>\n",
       "      <td>0.104159</td>\n",
       "      <td>0.024700</td>\n",
       "      <td>0.231700</td>\n",
       "      <td>0.000754</td>\n",
       "      <td>0.775900</td>\n",
       "      <td>-6.111300</td>\n",
       "      <td>117.426500</td>\n",
       "      <td>0.979</td>\n",
       "      <td>...</td>\n",
       "      <td>0.499</td>\n",
       "      <td>155.459</td>\n",
       "      <td>4</td>\n",
       "      <td>7.0</td>\n",
       "      <td>7.0</td>\n",
       "      <td>79</td>\n",
       "      <td>True</td>\n",
       "      <td>1.0</td>\n",
       "      <td>11.0</td>\n",
       "      <td>rock</td>\n",
       "    </tr>\n",
       "  </tbody>\n",
       "</table>\n",
       "<p>5 rows × 22 columns</p>\n",
       "</div>"
      ],
      "text/plain": [
       "                        album_run_time_ms  number_of_tracks  std_in_energy  \\\n",
       "02o1jXAin1PmiYxmln4WnE          1685371.0              10.0       0.210706   \n",
       "02sEJTj1sye1JaqxqpcSCp          3143823.0              14.0       0.161621   \n",
       "03CgI5yzuOcyRkkDOyCazP          1998917.0              11.0       0.123559   \n",
       "05vg15zAZuJneWQucqWaIa          1740996.0              10.0       0.053382   \n",
       "06qL01wLa4kVWGloqSHDYD          1487559.0              10.0       0.104159   \n",
       "\n",
       "                        std_in_speechiness  danceability_mean  \\\n",
       "02o1jXAin1PmiYxmln4WnE            0.009939           0.418500   \n",
       "02sEJTj1sye1JaqxqpcSCp            0.045708           0.601786   \n",
       "03CgI5yzuOcyRkkDOyCazP            0.157071           0.417545   \n",
       "05vg15zAZuJneWQucqWaIa            0.071112           0.372300   \n",
       "06qL01wLa4kVWGloqSHDYD            0.024700           0.231700   \n",
       "\n",
       "                        acousticness_mean  instrumentalness_mean  \\\n",
       "02o1jXAin1PmiYxmln4WnE           0.080014               0.000862   \n",
       "02sEJTj1sye1JaqxqpcSCp           0.120152               0.076961   \n",
       "03CgI5yzuOcyRkkDOyCazP           0.122944               0.315466   \n",
       "05vg15zAZuJneWQucqWaIa           0.000115               0.111160   \n",
       "06qL01wLa4kVWGloqSHDYD           0.000754               0.775900   \n",
       "\n",
       "                        loudness_mean  tempo_mean  energy_amax  ...  \\\n",
       "02o1jXAin1PmiYxmln4WnE      -5.421200  138.344600        0.915  ...   \n",
       "02sEJTj1sye1JaqxqpcSCp      -4.511929  121.551643        0.939  ...   \n",
       "03CgI5yzuOcyRkkDOyCazP      -8.302364  120.664545        0.855  ...   \n",
       "05vg15zAZuJneWQucqWaIa      -4.257100  128.057000        0.943  ...   \n",
       "06qL01wLa4kVWGloqSHDYD      -6.111300  117.426500        0.979  ...   \n",
       "\n",
       "                        valence_amax  tempo_amax  time_signature_amax  \\\n",
       "02o1jXAin1PmiYxmln4WnE         0.932     175.951                    4   \n",
       "02sEJTj1sye1JaqxqpcSCp         0.467     169.987                    4   \n",
       "03CgI5yzuOcyRkkDOyCazP         0.620     196.424                    4   \n",
       "05vg15zAZuJneWQucqWaIa         0.713     197.282                    4   \n",
       "06qL01wLa4kVWGloqSHDYD         0.499     155.459                    4   \n",
       "\n",
       "                        popularity_amax  score_amax  num_markets_amax  \\\n",
       "02o1jXAin1PmiYxmln4WnE              9.0         6.8                79   \n",
       "02sEJTj1sye1JaqxqpcSCp             80.0         5.3                76   \n",
       "03CgI5yzuOcyRkkDOyCazP             50.0         6.8                78   \n",
       "05vg15zAZuJneWQucqWaIa              7.0         6.7                79   \n",
       "06qL01wLa4kVWGloqSHDYD              7.0         7.0                79   \n",
       "\n",
       "                        is_explicit_amax  mode_amax  key_amax       genre  \n",
       "02o1jXAin1PmiYxmln4WnE             False        1.0      11.0        rock  \n",
       "02sEJTj1sye1JaqxqpcSCp              True        1.0      11.0  electronic  \n",
       "03CgI5yzuOcyRkkDOyCazP             False        1.0      11.0  electronic  \n",
       "05vg15zAZuJneWQucqWaIa             False        1.0      11.0        rock  \n",
       "06qL01wLa4kVWGloqSHDYD              True        1.0      11.0        rock  \n",
       "\n",
       "[5 rows x 22 columns]"
      ]
     },
     "execution_count": 17,
     "metadata": {},
     "output_type": "execute_result"
    }
   ],
   "source": [
    "album_df.head()"
   ]
  },
  {
   "cell_type": "code",
   "execution_count": 18,
   "metadata": {},
   "outputs": [
    {
     "name": "stdout",
     "output_type": "stream",
     "text": [
      "<class 'pandas.core.frame.DataFrame'>\n",
      "Index: 551 entries, 02o1jXAin1PmiYxmln4WnE to 7xf6mmYeYnTHjPFR0BeIre\n",
      "Data columns (total 22 columns):\n",
      "album_run_time_ms        551 non-null float64\n",
      "number_of_tracks         551 non-null float64\n",
      "std_in_energy            550 non-null float64\n",
      "std_in_speechiness       550 non-null float64\n",
      "danceability_mean        551 non-null float64\n",
      "acousticness_mean        551 non-null float64\n",
      "instrumentalness_mean    551 non-null float64\n",
      "loudness_mean            551 non-null float64\n",
      "tempo_mean               551 non-null float64\n",
      "energy_amax              551 non-null float64\n",
      "liveness_amax            551 non-null float64\n",
      "speechiness_amax         551 non-null float64\n",
      "valence_amax             551 non-null float64\n",
      "tempo_amax               551 non-null float64\n",
      "time_signature_amax      551 non-null int64\n",
      "popularity_amax          551 non-null float64\n",
      "score_amax               551 non-null float64\n",
      "num_markets_amax         551 non-null int64\n",
      "is_explicit_amax         551 non-null bool\n",
      "mode_amax                551 non-null float64\n",
      "key_amax                 551 non-null float64\n",
      "genre                    551 non-null object\n",
      "dtypes: bool(1), float64(18), int64(2), object(1)\n",
      "memory usage: 95.2+ KB\n"
     ]
    }
   ],
   "source": [
    "album_df.info()"
   ]
  },
  {
   "cell_type": "markdown",
   "metadata": {},
   "source": [
    "## EDA Questions"
   ]
  },
  {
   "cell_type": "markdown",
   "metadata": {},
   "source": [
    "1. What is the pitchfork rating distribution?\n",
    "2. What are the most commonly reviewed genres?\n",
    "3. How many songs are there per album?\n",
    "4. reviews vs. popularity\n",
    "5. highest rated genres"
   ]
  },
  {
   "cell_type": "markdown",
   "metadata": {},
   "source": [
    "### 1. What is the pitchfork rating distribution?"
   ]
  },
  {
   "cell_type": "code",
   "execution_count": 21,
   "metadata": {},
   "outputs": [
    {
     "data": {
      "image/png": "[encoded data removed]",
      "text/plain": [
       "<Figure size 432x288 with 1 Axes>"
      ]
     },
     "metadata": {},
     "output_type": "display_data"
    }
   ],
   "source": [
    "#plotting rating density\n",
    "density = gaussian_kde(album_df['score_amax'])\n",
    "xs = np.linspace(0,10,200)\n",
    "density.covariance_factor = lambda : .25\n",
    "density._compute_covariance()\n",
    "plt.plot(xs,density(xs))\n",
    "plt.ylabel('Density')\n",
    "plt.xlabel('Pitchfork Rating')\n",
    "plt.title('Density of Pitchfork Album Scores')\n",
    "plt.show()"
   ]
  },
  {
   "cell_type": "code",
   "execution_count": 9,
   "metadata": {},
   "outputs": [
    {
     "data": {
      "text/plain": [
       "7.225952813067153"
      ]
     },
     "execution_count": 9,
     "metadata": {},
     "output_type": "execute_result"
    }
   ],
   "source": [
    "album_df['score_amax'].mean()"
   ]
  },
  {
   "cell_type": "code",
   "execution_count": 11,
   "metadata": {},
   "outputs": [
    {
     "data": {
      "text/plain": [
       "22"
      ]
     },
     "execution_count": 11,
     "metadata": {},
     "output_type": "execute_result"
    }
   ],
   "source": [
    "len(album_df[album_df['score_amax'] >= 9])"
   ]
  },
  {
   "cell_type": "code",
   "execution_count": 12,
   "metadata": {},
   "outputs": [
    {
     "data": {
      "text/plain": [
       "10"
      ]
     },
     "execution_count": 12,
     "metadata": {},
     "output_type": "execute_result"
    }
   ],
   "source": [
    "len(album_df[album_df['score_amax'] == 10])"
   ]
  },
  {
   "cell_type": "markdown",
   "metadata": {},
   "source": [
    "It appears that Pitchfork tends to rate most albums between 6-8 out of 10 with around 60% of their ratings around 7.5. The average rating for an album is 7.22 and they have only rated 22 albums above 9, 10 of those albums being scored a 10. It is important to note that this is only a subset of pitchforks reviews thus the true distributions would require more data. "
   ]
  },
  {
   "cell_type": "markdown",
   "metadata": {},
   "source": [
    "### 2. What are the most commonly reviewed genres?"
   ]
  },
  {
   "cell_type": "code",
   "execution_count": 13,
   "metadata": {},
   "outputs": [
    {
     "data": {
      "text/plain": [
       "rock            218\n",
       "electronic      104\n",
       "rap              67\n",
       "pop/r&b          48\n",
       "experimental     42\n",
       "folk/country     28\n",
       "metal            21\n",
       "jazz             16\n",
       "global            7\n",
       "Name: genre, dtype: int64"
      ]
     },
     "execution_count": 13,
     "metadata": {},
     "output_type": "execute_result"
    }
   ],
   "source": [
    "album_df.genre.value_counts()"
   ]
  },
  {
   "cell_type": "code",
   "execution_count": 14,
   "metadata": {},
   "outputs": [],
   "source": [
    "s = album_df.genre.value_counts()"
   ]
  },
  {
   "cell_type": "code",
   "execution_count": 15,
   "metadata": {},
   "outputs": [
    {
     "data": {
      "image/png": "[encoded data removed]",
      "text/plain": [
       "<Figure size 432x288 with 1 Axes>"
      ]
     },
     "metadata": {
      "needs_background": "light"
     },
     "output_type": "display_data"
    }
   ],
   "source": [
    "#plot bar chart of reviews per music genre\n",
    "s.plot.bar()\n",
    "plt.ylabel('Number of Albums')\n",
    "plt.xlabel('Genre(s)')\n",
    "plt.title('Number of Pitchfork Reviews per Genre')\n",
    "plt.show()"
   ]
  },
  {
   "cell_type": "markdown",
   "metadata": {},
   "source": [
    "It appears that Pitchfork tends to review Rock, Rap, Electronic, and Pop/R&B mostly. Their most commonly reviewed genre is Rock (218 reviews) which makes sense as they were born as an indie music review website and Indie Rock was the original indie music originating in the 1970's."
   ]
  },
  {
   "cell_type": "markdown",
   "metadata": {},
   "source": [
    "### 3. How many songs are there per album?"
   ]
  },
  {
   "cell_type": "code",
   "execution_count": 16,
   "metadata": {},
   "outputs": [
    {
     "data": {
      "image/png": "[encoded data removed]",
      "text/plain": [
       "<Figure size 432x288 with 1 Axes>"
      ]
     },
     "metadata": {
      "needs_background": "light"
     },
     "output_type": "display_data"
    }
   ],
   "source": [
    "density2 = gaussian_kde(album_df['number_of_tracks'])\n",
    "xs2 = np.linspace(0,35,200)\n",
    "density2.covariance_factor = lambda : .25\n",
    "density2._compute_covariance()\n",
    "plt.plot(xs2,density2(xs2))\n",
    "plt.ylabel('Density')\n",
    "plt.xlabel('Number of Tracks')\n",
    "plt.title('Number of Songs per Album')\n",
    "plt.show()"
   ]
  },
  {
   "cell_type": "code",
   "execution_count": 17,
   "metadata": {},
   "outputs": [
    {
     "data": {
      "text/plain": [
       "35.0"
      ]
     },
     "execution_count": 17,
     "metadata": {},
     "output_type": "execute_result"
    }
   ],
   "source": [
    "album_df['number_of_tracks'].max()"
   ]
  },
  {
   "cell_type": "code",
   "execution_count": 18,
   "metadata": {},
   "outputs": [
    {
     "data": {
      "text/plain": [
       "11.651542649727768"
      ]
     },
     "execution_count": 18,
     "metadata": {},
     "output_type": "execute_result"
    }
   ],
   "source": [
    "album_df['number_of_tracks'].mean()"
   ]
  },
  {
   "cell_type": "markdown",
   "metadata": {},
   "source": [
    "From this visualization you can see that most albums have around 8-15 tracks. The maximum number of tracks is 35 and the average is 11."
   ]
  },
  {
   "cell_type": "markdown",
   "metadata": {},
   "source": [
    "### 4. What is the distribution of explicitness?"
   ]
  },
  {
   "cell_type": "code",
   "execution_count": 24,
   "metadata": {},
   "outputs": [
    {
     "data": {
      "image/png": "[encoded data removed]",
      "text/plain": [
       "<Figure size 432x288 with 1 Axes>"
      ]
     },
     "metadata": {},
     "output_type": "display_data"
    }
   ],
   "source": [
    "#plot histogram of explicit albums\n",
    "sns.set(style=\"darkgrid\")\n",
    "ax = sns.countplot(x=\"is_explicit_amax\", data=album_df)"
   ]
  },
  {
   "cell_type": "markdown",
   "metadata": {},
   "source": [
    "From this plot, it is evident that most albums reviewed by pitchfork have no explicit lyrics and the next largest category is all explicit lyrics. It seems that albums tend to either be completely explicity or have no explicit lyrics."
   ]
  },
  {
   "cell_type": "code",
   "execution_count": null,
   "metadata": {},
   "outputs": [],
   "source": []
  }
 ],
 "metadata": {
  "kernelspec": {
   "display_name": "Python 3",
   "language": "python",
   "name": "python3"
  },
  "language_info": {
   "codemirror_mode": {
    "name": "ipython",
    "version": 3
   },
   "file_extension": ".py",
   "mimetype": "text/x-python",
   "name": "python",
   "nbconvert_exporter": "python",
   "pygments_lexer": "ipython3",
   "version": "3.7.4"
  }
 },
 "nbformat": 4,
 "nbformat_minor": 2
}
