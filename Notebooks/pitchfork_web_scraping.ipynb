{
 "cells": [
  {
   "cell_type": "code",
   "execution_count": 1,
   "metadata": {},
   "outputs": [],
   "source": [
    "import re\n",
    "import requests\n",
    "from bs4 import BeautifulSoup\n",
    "import pandas as pd\n",
    "import pickle\n",
    "import time\n",
    "from tqdm import tqdm\n",
    "import matplotlib.pyplot as plt\n",
    "import seaborn as sns\n",
    "import numpy as np"
   ]
  },
  {
   "cell_type": "markdown",
   "metadata": {},
   "source": [
    "## Web Scraping"
   ]
  },
  {
   "cell_type": "code",
   "execution_count": 7,
   "metadata": {},
   "outputs": [],
   "source": [
    "filename = 'data/pitchfork_15-present.html'\n",
    "file = open(filename, 'r')\n",
    "soup = BeautifulSoup(file, 'html.parser')\n"
   ]
  },
  {
   "cell_type": "code",
   "execution_count": 8,
   "metadata": {},
   "outputs": [],
   "source": [
    "link_tags = soup.findAll('a', {'class': ['review__link']})\n",
    "real_links = []\n",
    "for tag in link_tags:\n",
    "    real_links.append(tag.get('href'))"
   ]
  },
  {
   "cell_type": "code",
   "execution_count": 9,
   "metadata": {},
   "outputs": [],
   "source": [
    "files = 'pitchfork_rev_links.pickle'\n",
    "pickle.dump(real_links, open(files, 'wb'))"
   ]
  },
  {
   "cell_type": "code",
   "execution_count": 10,
   "metadata": {
    "scrolled": true
   },
   "outputs": [
    {
     "name": "stderr",
     "output_type": "stream",
     "text": [
      "\n",
      "  0%|          | 0/1116 [00:00<?, ?it/s]\u001b[A\n",
      "  0%|          | 1/1116 [00:03<1:06:04,  3.56s/it]\u001b[A\n",
      "  0%|          | 2/1116 [00:07<1:06:15,  3.57s/it]\u001b[A"
     ]
    },
    {
     "ename": "KeyboardInterrupt",
     "evalue": "",
     "output_type": "error",
     "traceback": [
      "\u001b[0;31m---------------------------------------------------------------------------\u001b[0m",
      "\u001b[0;31mKeyboardInterrupt\u001b[0m                         Traceback (most recent call last)",
      "\u001b[0;32m<ipython-input-10-010256e9c4ce>\u001b[0m in \u001b[0;36m<module>\u001b[0;34m\u001b[0m\n\u001b[1;32m      5\u001b[0m \u001b[0msummary\u001b[0m \u001b[0;34m=\u001b[0m \u001b[0;34m[\u001b[0m\u001b[0;34m]\u001b[0m\u001b[0;34m\u001b[0m\u001b[0;34m\u001b[0m\u001b[0m\n\u001b[1;32m      6\u001b[0m \u001b[0;32mfor\u001b[0m \u001b[0mi\u001b[0m \u001b[0;32min\u001b[0m \u001b[0mtqdm\u001b[0m\u001b[0;34m(\u001b[0m\u001b[0mreal_links\u001b[0m\u001b[0;34m)\u001b[0m\u001b[0;34m:\u001b[0m\u001b[0;34m\u001b[0m\u001b[0;34m\u001b[0m\u001b[0m\n\u001b[0;32m----> 7\u001b[0;31m     \u001b[0mtime\u001b[0m\u001b[0;34m.\u001b[0m\u001b[0msleep\u001b[0m\u001b[0;34m(\u001b[0m\u001b[0;36m2\u001b[0m\u001b[0;34m)\u001b[0m\u001b[0;34m\u001b[0m\u001b[0;34m\u001b[0m\u001b[0m\n\u001b[0m\u001b[1;32m      8\u001b[0m     \u001b[0murl\u001b[0m \u001b[0;34m=\u001b[0m \u001b[0mi\u001b[0m\u001b[0;34m\u001b[0m\u001b[0;34m\u001b[0m\u001b[0m\n\u001b[1;32m      9\u001b[0m     \u001b[0mhtml_page\u001b[0m \u001b[0;34m=\u001b[0m \u001b[0mrequests\u001b[0m\u001b[0;34m.\u001b[0m\u001b[0mget\u001b[0m\u001b[0;34m(\u001b[0m\u001b[0murl\u001b[0m\u001b[0;34m)\u001b[0m\u001b[0;34m\u001b[0m\u001b[0;34m\u001b[0m\u001b[0m\n",
      "\u001b[0;31mKeyboardInterrupt\u001b[0m: "
     ]
    }
   ],
   "source": [
    "album = []\n",
    "artist = []\n",
    "score = []\n",
    "genres = []\n",
    "summary = []\n",
    "for i in tqdm(real_links):\n",
    "    time.sleep(2)\n",
    "    url = i\n",
    "    html_page = requests.get(url)\n",
    "    soup = BeautifulSoup(html_page.content, 'html.parser')\n",
    "    album_tag = soup.find('h1', {'class': ['single-album-tombstone__review-title']})\n",
    "    artist_tag = soup.find('ul', {'class': ['artist-links artist-list single-album-tombstone__artist-links']})\n",
    "    score_tag = soup.find('span', {'class': ['score']})\n",
    "    genres_tag = soup.find('ul', {'class': ['genre-list genre-list--before']})\n",
    "    summary_tag = soup.find('div', {'class': ['review-detail__abstract']})\n",
    "    try:\n",
    "        album.append(album_tag.get_text())\n",
    "    except AttributeError:\n",
    "        album.append('null')\n",
    "    try:\n",
    "        artist.append(artist_tag.get_text())\n",
    "    except AttributeError:\n",
    "        artist.append('null')\n",
    "    try:\n",
    "        score.append(score_tag.get_text())\n",
    "    except AttributeError:\n",
    "        score.append('null')\n",
    "    try:\n",
    "        genres.append(genres_tag.get_text())\n",
    "    except AttributeError:\n",
    "        genres.append('null')\n",
    "    try:\n",
    "        summary.append(summary_tag.get_text())\n",
    "    except AttributeError:\n",
    "        summary.append('null')\n",
    "    \n",
    "print(album, artist, score, genres, summary)\n",
    "    "
   ]
  },
  {
   "cell_type": "code",
   "execution_count": 13,
   "metadata": {},
   "outputs": [],
   "source": [
    "with open('pitchfork_album.pickle', 'wb') as f:\n",
    "    pickle.dump(album, f)\n",
    "with open('pitchfork_artist.pickle', 'wb') as f:\n",
    "    pickle.dump(artist, f)\n",
    "with open('pitchfork_score.pickle', 'wb') as f:\n",
    "    pickle.dump(score, f)\n",
    "with open('pitchfork_genres.pickle', 'wb') as f:\n",
    "    pickle.dump(genres, f)\n",
    "with open('pitchfork_summary.pickle', 'wb') as f:\n",
    "    pickle.dump(summary, f)"
   ]
  },
  {
   "cell_type": "code",
   "execution_count": 14,
   "metadata": {},
   "outputs": [
    {
     "name": "stdout",
     "output_type": "stream",
     "text": [
      "72\n"
     ]
    },
    {
     "data": {
      "text/html": [
       "<div>\n",
       "<style scoped>\n",
       "    .dataframe tbody tr th:only-of-type {\n",
       "        vertical-align: middle;\n",
       "    }\n",
       "\n",
       "    .dataframe tbody tr th {\n",
       "        vertical-align: top;\n",
       "    }\n",
       "\n",
       "    .dataframe thead th {\n",
       "        text-align: right;\n",
       "    }\n",
       "</style>\n",
       "<table border=\"1\" class=\"dataframe\">\n",
       "  <thead>\n",
       "    <tr style=\"text-align: right;\">\n",
       "      <th></th>\n",
       "      <th>Album</th>\n",
       "      <th>Artist</th>\n",
       "      <th>Score</th>\n",
       "      <th>Genres</th>\n",
       "      <th>Summary</th>\n",
       "    </tr>\n",
       "  </thead>\n",
       "  <tbody>\n",
       "    <tr>\n",
       "      <td>0</td>\n",
       "      <td>For You</td>\n",
       "      <td>India Jordan</td>\n",
       "      <td>8.0</td>\n",
       "      <td>null</td>\n",
       "      <td>The UK producer arranges classic dance tropes ...</td>\n",
       "    </tr>\n",
       "    <tr>\n",
       "      <td>1</td>\n",
       "      <td>Both</td>\n",
       "      <td>Bill Nace</td>\n",
       "      <td>7.9</td>\n",
       "      <td>Experimental</td>\n",
       "      <td>The experimental guitarist who made his name o...</td>\n",
       "    </tr>\n",
       "    <tr>\n",
       "      <td>2</td>\n",
       "      <td>The World I’m Going to Hell For</td>\n",
       "      <td>Nathan Micay</td>\n",
       "      <td>7.6</td>\n",
       "      <td>Experimental</td>\n",
       "      <td>The Berlin-based producer swaps his habitually...</td>\n",
       "    </tr>\n",
       "    <tr>\n",
       "      <td>3</td>\n",
       "      <td>Acquiesce</td>\n",
       "      <td>TALsounds</td>\n",
       "      <td>7.6</td>\n",
       "      <td>Experimental</td>\n",
       "      <td>The synth compositions of Chicago experimental...</td>\n",
       "    </tr>\n",
       "    <tr>\n",
       "      <td>4</td>\n",
       "      <td>Elliott Smith</td>\n",
       "      <td>Elliott Smith</td>\n",
       "      <td>9.5</td>\n",
       "      <td>Rock</td>\n",
       "      <td>Each Sunday, Pitchfork takes an in-depth look ...</td>\n",
       "    </tr>\n",
       "    <tr>\n",
       "      <td>...</td>\n",
       "      <td>...</td>\n",
       "      <td>...</td>\n",
       "      <td>...</td>\n",
       "      <td>...</td>\n",
       "      <td>...</td>\n",
       "    </tr>\n",
       "    <tr>\n",
       "      <td>67</td>\n",
       "      <td>Sogni</td>\n",
       "      <td>Primo!</td>\n",
       "      <td>7.5</td>\n",
       "      <td>Rock</td>\n",
       "      <td>The Melbourne quartet’s catchy, plainspoken po...</td>\n",
       "    </tr>\n",
       "    <tr>\n",
       "      <td>68</td>\n",
       "      <td>Dark Lane Demo Tapes</td>\n",
       "      <td>Drake</td>\n",
       "      <td>6.8</td>\n",
       "      <td>Rap</td>\n",
       "      <td>Drake’s new project is a mixtape of glossy “de...</td>\n",
       "    </tr>\n",
       "    <tr>\n",
       "      <td>69</td>\n",
       "      <td>Frozen</td>\n",
       "      <td>Klein</td>\n",
       "      <td>7.6</td>\n",
       "      <td>Experimental</td>\n",
       "      <td>Slipping between stark realism and meditative ...</td>\n",
       "    </tr>\n",
       "    <tr>\n",
       "      <td>70</td>\n",
       "      <td>The Mother Stone</td>\n",
       "      <td>Caleb Landry Jones</td>\n",
       "      <td>6.4</td>\n",
       "      <td>Rock</td>\n",
       "      <td>The film actor’s musical debut is full of shad...</td>\n",
       "    </tr>\n",
       "    <tr>\n",
       "      <td>71</td>\n",
       "      <td>Quiet Bloom</td>\n",
       "      <td>Minais B</td>\n",
       "      <td>7.5</td>\n",
       "      <td>Experimental</td>\n",
       "      <td>Created in a period of grieving, Danish electr...</td>\n",
       "    </tr>\n",
       "  </tbody>\n",
       "</table>\n",
       "<p>72 rows × 5 columns</p>\n",
       "</div>"
      ],
      "text/plain": [
       "                              Album              Artist Score        Genres  \\\n",
       "0                           For You        India Jordan   8.0          null   \n",
       "1                              Both           Bill Nace   7.9  Experimental   \n",
       "2   The World I’m Going to Hell For        Nathan Micay   7.6  Experimental   \n",
       "3                         Acquiesce           TALsounds   7.6  Experimental   \n",
       "4                     Elliott Smith       Elliott Smith   9.5          Rock   \n",
       "..                              ...                 ...   ...           ...   \n",
       "67                            Sogni              Primo!   7.5          Rock   \n",
       "68             Dark Lane Demo Tapes               Drake   6.8           Rap   \n",
       "69                           Frozen               Klein   7.6  Experimental   \n",
       "70                 The Mother Stone  Caleb Landry Jones   6.4          Rock   \n",
       "71                      Quiet Bloom            Minais B   7.5  Experimental   \n",
       "\n",
       "                                              Summary  \n",
       "0   The UK producer arranges classic dance tropes ...  \n",
       "1   The experimental guitarist who made his name o...  \n",
       "2   The Berlin-based producer swaps his habitually...  \n",
       "3   The synth compositions of Chicago experimental...  \n",
       "4   Each Sunday, Pitchfork takes an in-depth look ...  \n",
       "..                                                ...  \n",
       "67  The Melbourne quartet’s catchy, plainspoken po...  \n",
       "68  Drake’s new project is a mixtape of glossy “de...  \n",
       "69  Slipping between stark realism and meditative ...  \n",
       "70  The film actor’s musical debut is full of shad...  \n",
       "71  Created in a period of grieving, Danish electr...  \n",
       "\n",
       "[72 rows x 5 columns]"
      ]
     },
     "execution_count": 14,
     "metadata": {},
     "output_type": "execute_result"
    }
   ],
   "source": [
    "pitchfork_df = pd.DataFrame([album, artist, score, genres, summary]).transpose()\n",
    "pitchfork_df.columns = ['Album', 'Artist', 'Score', 'Genres', 'Summary']\n",
    "print(len(pitchfork_df))\n",
    "pitchfork_df.head(100)"
   ]
  },
  {
   "cell_type": "code",
   "execution_count": 15,
   "metadata": {},
   "outputs": [],
   "source": [
    "pitchfork_df.to_pickle(\"pitchfork_df.pickle\")\n"
   ]
  },
  {
   "cell_type": "markdown",
   "metadata": {},
   "source": [
    "## Visualizations"
   ]
  },
  {
   "cell_type": "code",
   "execution_count": 16,
   "metadata": {},
   "outputs": [],
   "source": [
    "pitchfork_df = pitchfork_df[pitchfork_df.Score != 'null']\n"
   ]
  },
  {
   "cell_type": "code",
   "execution_count": 17,
   "metadata": {},
   "outputs": [],
   "source": [
    "s = pitchfork_df['Score']\n"
   ]
  },
  {
   "cell_type": "code",
   "execution_count": 18,
   "metadata": {},
   "outputs": [],
   "source": [
    "x = pd.to_numeric(s)\n"
   ]
  },
  {
   "cell_type": "code",
   "execution_count": 19,
   "metadata": {
    "scrolled": true
   },
   "outputs": [
    {
     "data": {
      "image/png": "[encoded data removed]",
      "text/plain": [
       "<Figure size 432x288 with 1 Axes>"
      ]
     },
     "metadata": {
      "needs_background": "light"
     },
     "output_type": "display_data"
    }
   ],
   "source": [
    "plt.hist(x, bins=100, range=(0,10))\n",
    "plt.xlabel('Pitchfork Score', fontsize=18)\n",
    "plt.ylabel('Count', fontsize=16)\n",
    "plt.title('Number of Scores per Category')\n",
    "plt.show()"
   ]
  },
  {
   "cell_type": "code",
   "execution_count": null,
   "metadata": {},
   "outputs": [],
   "source": []
  }
 ],
 "metadata": {
  "kernelspec": {
   "display_name": "Python 3",
   "language": "python",
   "name": "python3"
  },
  "language_info": {
   "codemirror_mode": {
    "name": "ipython",
    "version": 3
   },
   "file_extension": ".py",
   "mimetype": "text/x-python",
   "name": "python",
   "nbconvert_exporter": "python",
   "pygments_lexer": "ipython3",
   "version": "3.7.4"
  }
 },
 "nbformat": 4,
 "nbformat_minor": 2
}
