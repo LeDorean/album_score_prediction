{
 "cells": [
  {
   "cell_type": "code",
   "execution_count": 1,
   "metadata": {},
   "outputs": [],
   "source": [
    "#import packages\n",
    "import pandas as pd\n",
    "pd.set_option('display.max_columns', None)\n",
    "import matplotlib.pyplot as plt\n",
    "import matplotlib.style as style\n",
    "style.use('fivethirtyeight')\n",
    "import seaborn as sns\n",
    "import numpy as np\n",
    "from scipy import stats\n",
    "from statsmodels.formula.api import ols\n",
    "import statsmodels.api as sm\n",
    "from sklearn.dummy import DummyRegressor\n",
    "from sklearn.linear_model import LassoCV\n",
    "from sklearn.linear_model import RidgeCV\n",
    "from sklearn.feature_selection import RFE, RFECV\n",
    "from sklearn.model_selection import train_test_split\n",
    "from sklearn.preprocessing import StandardScaler\n",
    "from sklearn.preprocessing import MinMaxScaler\n",
    "from sklearn.feature_selection import f_regression, mutual_info_regression, SelectKBest\n",
    "from sklearn.preprocessing import PolynomialFeatures\n",
    "from sklearn.feature_selection import VarianceThreshold\n",
    "from sklearn import preprocessing\n",
    "from sklearn.linear_model import Lasso, Ridge, LinearRegression\n",
    "from sklearn.model_selection import cross_val_score\n",
    "from sklearn.model_selection import KFold\n",
    "import seaborn as sns\n",
    "import statsmodels.api as sm\n",
    "from statsmodels.stats import diagnostic as diag\n",
    "from statsmodels.stats.outliers_influence import variance_inflation_factor\n",
    "from sklearn.linear_model import LinearRegression\n",
    "from sklearn.linear_model import Lasso, Ridge\n",
    "from sklearn.model_selection import train_test_split\n",
    "from sklearn.metrics import mean_squared_error, r2_score, mean_absolute_error\n",
    "from scipy import stats\n",
    "from sklearn.model_selection import GridSearchCV\n",
    "from sklearn.preprocessing import MinMaxScaler\n",
    "from itertools import combinations\n",
    "from sklearn.metrics import mean_absolute_error, mean_squared_error\n",
    "from scipy.stats import shapiro\n",
    "from sklearn.impute import SimpleImputer\n",
    "from sklearn.metrics import accuracy_score, r2_score\n",
    "import warnings\n",
    "warnings.filterwarnings('ignore')\n",
    "%matplotlib inline\n"
   ]
  },
  {
   "cell_type": "markdown",
   "metadata": {},
   "source": [
    "# 1. Data Preparation"
   ]
  },
  {
   "cell_type": "markdown",
   "metadata": {},
   "source": [
    "## Import data"
   ]
  },
  {
   "cell_type": "code",
   "execution_count": 2,
   "metadata": {},
   "outputs": [],
   "source": [
    "#load dataframe\n",
    "df = pd.read_pickle('data/album_df.pkl')"
   ]
  },
  {
   "cell_type": "code",
   "execution_count": 3,
   "metadata": {},
   "outputs": [
    {
     "data": {
      "text/html": [
       "<div>\n",
       "<style scoped>\n",
       "    .dataframe tbody tr th:only-of-type {\n",
       "        vertical-align: middle;\n",
       "    }\n",
       "\n",
       "    .dataframe tbody tr th {\n",
       "        vertical-align: top;\n",
       "    }\n",
       "\n",
       "    .dataframe thead th {\n",
       "        text-align: right;\n",
       "    }\n",
       "</style>\n",
       "<table border=\"1\" class=\"dataframe\">\n",
       "  <thead>\n",
       "    <tr style=\"text-align: right;\">\n",
       "      <th></th>\n",
       "      <th>album_run_time_ms</th>\n",
       "      <th>number_of_tracks</th>\n",
       "      <th>energy_mean</th>\n",
       "      <th>speechiness_mean</th>\n",
       "      <th>danceability_mean</th>\n",
       "      <th>acousticness_mean</th>\n",
       "      <th>instrumentalness_mean</th>\n",
       "      <th>loudness_mean</th>\n",
       "      <th>liveness_mean</th>\n",
       "      <th>valence_mean</th>\n",
       "      <th>energy_amax</th>\n",
       "      <th>liveness_amax</th>\n",
       "      <th>speechiness_amax</th>\n",
       "      <th>valence_amax</th>\n",
       "      <th>tempo_amax</th>\n",
       "      <th>time_signature_amax</th>\n",
       "      <th>popularity_amax</th>\n",
       "      <th>score_amax</th>\n",
       "      <th>num_markets_amax</th>\n",
       "      <th>is_explicit_amax</th>\n",
       "      <th>mode_amax</th>\n",
       "      <th>key_amax</th>\n",
       "      <th>instrumentalness_amax</th>\n",
       "      <th>acousticness_amax</th>\n",
       "      <th>loudness_amax</th>\n",
       "      <th>danceability_amax</th>\n",
       "      <th>Genres</th>\n",
       "    </tr>\n",
       "  </thead>\n",
       "  <tbody>\n",
       "    <tr>\n",
       "      <td>00S6tD68T69Opox43fMWAJ</td>\n",
       "      <td>2593940.0</td>\n",
       "      <td>10.0</td>\n",
       "      <td>0.229250</td>\n",
       "      <td>0.082110</td>\n",
       "      <td>0.546800</td>\n",
       "      <td>0.736810</td>\n",
       "      <td>0.738900</td>\n",
       "      <td>-12.205700</td>\n",
       "      <td>0.127010</td>\n",
       "      <td>0.345000</td>\n",
       "      <td>0.469</td>\n",
       "      <td>0.321</td>\n",
       "      <td>0.2080</td>\n",
       "      <td>0.891</td>\n",
       "      <td>148.895</td>\n",
       "      <td>4.0</td>\n",
       "      <td>6.0</td>\n",
       "      <td>8.0</td>\n",
       "      <td>79.0</td>\n",
       "      <td>False</td>\n",
       "      <td>1.0</td>\n",
       "      <td>7.0</td>\n",
       "      <td>0.9430</td>\n",
       "      <td>0.992</td>\n",
       "      <td>-8.016</td>\n",
       "      <td>0.699</td>\n",
       "      <td>Jazz</td>\n",
       "    </tr>\n",
       "    <tr>\n",
       "      <td>00ojDEHvnEOPOjhHrUrKy5</td>\n",
       "      <td>2886000.0</td>\n",
       "      <td>10.0</td>\n",
       "      <td>0.384600</td>\n",
       "      <td>0.094240</td>\n",
       "      <td>0.724300</td>\n",
       "      <td>0.374767</td>\n",
       "      <td>0.532800</td>\n",
       "      <td>-15.015700</td>\n",
       "      <td>0.200730</td>\n",
       "      <td>0.362970</td>\n",
       "      <td>0.697</td>\n",
       "      <td>0.896</td>\n",
       "      <td>0.1460</td>\n",
       "      <td>0.874</td>\n",
       "      <td>120.006</td>\n",
       "      <td>4.0</td>\n",
       "      <td>7.0</td>\n",
       "      <td>7.4</td>\n",
       "      <td>79.0</td>\n",
       "      <td>False</td>\n",
       "      <td>1.0</td>\n",
       "      <td>11.0</td>\n",
       "      <td>0.8460</td>\n",
       "      <td>0.854</td>\n",
       "      <td>-11.375</td>\n",
       "      <td>0.918</td>\n",
       "      <td>Electronic</td>\n",
       "    </tr>\n",
       "    <tr>\n",
       "      <td>00oz3t7cI3WfwS2oEIZD6x</td>\n",
       "      <td>1670290.0</td>\n",
       "      <td>9.0</td>\n",
       "      <td>0.174333</td>\n",
       "      <td>0.037156</td>\n",
       "      <td>0.443889</td>\n",
       "      <td>0.957778</td>\n",
       "      <td>0.205918</td>\n",
       "      <td>-13.239333</td>\n",
       "      <td>0.114111</td>\n",
       "      <td>0.214989</td>\n",
       "      <td>0.268</td>\n",
       "      <td>0.161</td>\n",
       "      <td>0.0512</td>\n",
       "      <td>0.342</td>\n",
       "      <td>207.893</td>\n",
       "      <td>5.0</td>\n",
       "      <td>45.0</td>\n",
       "      <td>8.4</td>\n",
       "      <td>1.0</td>\n",
       "      <td>False</td>\n",
       "      <td>1.0</td>\n",
       "      <td>11.0</td>\n",
       "      <td>0.9610</td>\n",
       "      <td>0.992</td>\n",
       "      <td>-11.023</td>\n",
       "      <td>0.583</td>\n",
       "      <td>Folk/Country</td>\n",
       "    </tr>\n",
       "    <tr>\n",
       "      <td>00uqjqwLruO346z3cNlNqG</td>\n",
       "      <td>2337540.0</td>\n",
       "      <td>13.0</td>\n",
       "      <td>0.601769</td>\n",
       "      <td>0.084700</td>\n",
       "      <td>0.562154</td>\n",
       "      <td>0.464462</td>\n",
       "      <td>0.011059</td>\n",
       "      <td>-6.111769</td>\n",
       "      <td>0.148254</td>\n",
       "      <td>0.455692</td>\n",
       "      <td>0.911</td>\n",
       "      <td>0.570</td>\n",
       "      <td>0.2120</td>\n",
       "      <td>0.782</td>\n",
       "      <td>203.911</td>\n",
       "      <td>4.0</td>\n",
       "      <td>65.0</td>\n",
       "      <td>7.4</td>\n",
       "      <td>79.0</td>\n",
       "      <td>False</td>\n",
       "      <td>1.0</td>\n",
       "      <td>11.0</td>\n",
       "      <td>0.0504</td>\n",
       "      <td>0.934</td>\n",
       "      <td>-3.046</td>\n",
       "      <td>0.714</td>\n",
       "      <td>Pop/R&amp;B</td>\n",
       "    </tr>\n",
       "    <tr>\n",
       "      <td>011h71h7y7Via9wSsfZtQA</td>\n",
       "      <td>2249943.0</td>\n",
       "      <td>10.0</td>\n",
       "      <td>0.591300</td>\n",
       "      <td>0.079200</td>\n",
       "      <td>0.459100</td>\n",
       "      <td>0.492267</td>\n",
       "      <td>0.144140</td>\n",
       "      <td>-9.282200</td>\n",
       "      <td>0.194600</td>\n",
       "      <td>0.335260</td>\n",
       "      <td>0.863</td>\n",
       "      <td>0.350</td>\n",
       "      <td>0.3670</td>\n",
       "      <td>0.571</td>\n",
       "      <td>151.984</td>\n",
       "      <td>5.0</td>\n",
       "      <td>21.0</td>\n",
       "      <td>7.3</td>\n",
       "      <td>72.0</td>\n",
       "      <td>False</td>\n",
       "      <td>1.0</td>\n",
       "      <td>11.0</td>\n",
       "      <td>0.7180</td>\n",
       "      <td>0.800</td>\n",
       "      <td>-5.051</td>\n",
       "      <td>0.625</td>\n",
       "      <td>Rock</td>\n",
       "    </tr>\n",
       "  </tbody>\n",
       "</table>\n",
       "</div>"
      ],
      "text/plain": [
       "                        album_run_time_ms  number_of_tracks  energy_mean  \\\n",
       "00S6tD68T69Opox43fMWAJ          2593940.0              10.0     0.229250   \n",
       "00ojDEHvnEOPOjhHrUrKy5          2886000.0              10.0     0.384600   \n",
       "00oz3t7cI3WfwS2oEIZD6x          1670290.0               9.0     0.174333   \n",
       "00uqjqwLruO346z3cNlNqG          2337540.0              13.0     0.601769   \n",
       "011h71h7y7Via9wSsfZtQA          2249943.0              10.0     0.591300   \n",
       "\n",
       "                        speechiness_mean  danceability_mean  \\\n",
       "00S6tD68T69Opox43fMWAJ          0.082110           0.546800   \n",
       "00ojDEHvnEOPOjhHrUrKy5          0.094240           0.724300   \n",
       "00oz3t7cI3WfwS2oEIZD6x          0.037156           0.443889   \n",
       "00uqjqwLruO346z3cNlNqG          0.084700           0.562154   \n",
       "011h71h7y7Via9wSsfZtQA          0.079200           0.459100   \n",
       "\n",
       "                        acousticness_mean  instrumentalness_mean  \\\n",
       "00S6tD68T69Opox43fMWAJ           0.736810               0.738900   \n",
       "00ojDEHvnEOPOjhHrUrKy5           0.374767               0.532800   \n",
       "00oz3t7cI3WfwS2oEIZD6x           0.957778               0.205918   \n",
       "00uqjqwLruO346z3cNlNqG           0.464462               0.011059   \n",
       "011h71h7y7Via9wSsfZtQA           0.492267               0.144140   \n",
       "\n",
       "                        loudness_mean  liveness_mean  valence_mean  \\\n",
       "00S6tD68T69Opox43fMWAJ     -12.205700       0.127010      0.345000   \n",
       "00ojDEHvnEOPOjhHrUrKy5     -15.015700       0.200730      0.362970   \n",
       "00oz3t7cI3WfwS2oEIZD6x     -13.239333       0.114111      0.214989   \n",
       "00uqjqwLruO346z3cNlNqG      -6.111769       0.148254      0.455692   \n",
       "011h71h7y7Via9wSsfZtQA      -9.282200       0.194600      0.335260   \n",
       "\n",
       "                        energy_amax  liveness_amax  speechiness_amax  \\\n",
       "00S6tD68T69Opox43fMWAJ        0.469          0.321            0.2080   \n",
       "00ojDEHvnEOPOjhHrUrKy5        0.697          0.896            0.1460   \n",
       "00oz3t7cI3WfwS2oEIZD6x        0.268          0.161            0.0512   \n",
       "00uqjqwLruO346z3cNlNqG        0.911          0.570            0.2120   \n",
       "011h71h7y7Via9wSsfZtQA        0.863          0.350            0.3670   \n",
       "\n",
       "                        valence_amax  tempo_amax  time_signature_amax  \\\n",
       "00S6tD68T69Opox43fMWAJ         0.891     148.895                  4.0   \n",
       "00ojDEHvnEOPOjhHrUrKy5         0.874     120.006                  4.0   \n",
       "00oz3t7cI3WfwS2oEIZD6x         0.342     207.893                  5.0   \n",
       "00uqjqwLruO346z3cNlNqG         0.782     203.911                  4.0   \n",
       "011h71h7y7Via9wSsfZtQA         0.571     151.984                  5.0   \n",
       "\n",
       "                        popularity_amax  score_amax  num_markets_amax  \\\n",
       "00S6tD68T69Opox43fMWAJ              6.0         8.0              79.0   \n",
       "00ojDEHvnEOPOjhHrUrKy5              7.0         7.4              79.0   \n",
       "00oz3t7cI3WfwS2oEIZD6x             45.0         8.4               1.0   \n",
       "00uqjqwLruO346z3cNlNqG             65.0         7.4              79.0   \n",
       "011h71h7y7Via9wSsfZtQA             21.0         7.3              72.0   \n",
       "\n",
       "                        is_explicit_amax  mode_amax  key_amax  \\\n",
       "00S6tD68T69Opox43fMWAJ             False        1.0       7.0   \n",
       "00ojDEHvnEOPOjhHrUrKy5             False        1.0      11.0   \n",
       "00oz3t7cI3WfwS2oEIZD6x             False        1.0      11.0   \n",
       "00uqjqwLruO346z3cNlNqG             False        1.0      11.0   \n",
       "011h71h7y7Via9wSsfZtQA             False        1.0      11.0   \n",
       "\n",
       "                        instrumentalness_amax  acousticness_amax  \\\n",
       "00S6tD68T69Opox43fMWAJ                 0.9430              0.992   \n",
       "00ojDEHvnEOPOjhHrUrKy5                 0.8460              0.854   \n",
       "00oz3t7cI3WfwS2oEIZD6x                 0.9610              0.992   \n",
       "00uqjqwLruO346z3cNlNqG                 0.0504              0.934   \n",
       "011h71h7y7Via9wSsfZtQA                 0.7180              0.800   \n",
       "\n",
       "                        loudness_amax  danceability_amax        Genres  \n",
       "00S6tD68T69Opox43fMWAJ         -8.016              0.699          Jazz  \n",
       "00ojDEHvnEOPOjhHrUrKy5        -11.375              0.918    Electronic  \n",
       "00oz3t7cI3WfwS2oEIZD6x        -11.023              0.583  Folk/Country  \n",
       "00uqjqwLruO346z3cNlNqG         -3.046              0.714       Pop/R&B  \n",
       "011h71h7y7Via9wSsfZtQA         -5.051              0.625          Rock  "
      ]
     },
     "execution_count": 3,
     "metadata": {},
     "output_type": "execute_result"
    }
   ],
   "source": [
    "df.head()"
   ]
  },
  {
   "cell_type": "markdown",
   "metadata": {},
   "source": [
    "As mentioned during the EDA, I'll focus modeling on Rock music for consistency and run separate models for mean set and max set."
   ]
  },
  {
   "cell_type": "code",
   "execution_count": 4,
   "metadata": {},
   "outputs": [],
   "source": [
    "rock_df = df.loc[df['Genres'] == 'Rock']"
   ]
  },
  {
   "cell_type": "code",
   "execution_count": 5,
   "metadata": {},
   "outputs": [
    {
     "data": {
      "text/plain": [
       "Index(['album_run_time_ms', 'number_of_tracks', 'energy_mean',\n",
       "       'speechiness_mean', 'danceability_mean', 'acousticness_mean',\n",
       "       'instrumentalness_mean', 'loudness_mean', 'liveness_mean',\n",
       "       'valence_mean', 'energy_amax', 'liveness_amax', 'speechiness_amax',\n",
       "       'valence_amax', 'tempo_amax', 'time_signature_amax', 'popularity_amax',\n",
       "       'score_amax', 'num_markets_amax', 'is_explicit_amax', 'mode_amax',\n",
       "       'key_amax', 'instrumentalness_amax', 'acousticness_amax',\n",
       "       'loudness_amax', 'danceability_amax', 'Genres'],\n",
       "      dtype='object')"
      ]
     },
     "execution_count": 5,
     "metadata": {},
     "output_type": "execute_result"
    }
   ],
   "source": [
    "df.columns"
   ]
  },
  {
   "cell_type": "markdown",
   "metadata": {},
   "source": [
    "I've decided to use the following variables as predictors:\n",
    "* Speechiness\n",
    "* Danceability\n",
    "* Acousticness\n",
    "* Valence\n",
    "* Liveness\n",
    "* Instrumentalness\n",
    "\n",
    "Other variables such as tempo, mode and key are deliberately excluded to avoid suggesting an overly formulaic approach in song making, since a repetitive album is a guaranteed failure. The values chosen will instead point towards more general characteristics while giving musicians greater artistic freedom."
   ]
  },
  {
   "cell_type": "code",
   "execution_count": 6,
   "metadata": {},
   "outputs": [],
   "source": [
    "df_mean = rock_df[['energy_mean', 'speechiness_mean', 'danceability_mean', 'acousticness_mean',\n",
    "       'instrumentalness_mean', 'loudness_mean', 'liveness_mean', 'valence_mean', 'score_amax']]"
   ]
  },
  {
   "cell_type": "code",
   "execution_count": 7,
   "metadata": {},
   "outputs": [],
   "source": [
    "df_max = rock_df[['energy_amax', 'liveness_amax', 'speechiness_amax','valence_amax',\n",
    "                  'tempo_amax', 'popularity_amax', 'instrumentalness_amax', 'acousticness_amax',\n",
    "                  'loudness_amax', 'danceability_amax','score_amax']]"
   ]
  },
  {
   "cell_type": "code",
   "execution_count": 8,
   "metadata": {},
   "outputs": [
    {
     "data": {
      "image/png": "[encoded data removed]",
      "text/plain": [
       "<Figure size 1152x1152 with 2 Axes>"
      ]
     },
     "metadata": {
      "needs_background": "light"
     },
     "output_type": "display_data"
    }
   ],
   "source": [
    "\n",
    "# checking multicolinearity between mean features\n",
    "corr = df_mean.corr()\n",
    "mask = np.zeros_like(corr, dtype=np.bool)\n",
    "mask[np.triu_indices_from(mask)] = True\n",
    "\n",
    "plt.figure(figsize=(16,16))\n",
    "sns.heatmap(corr,annot=True, mask=mask)\n",
    "plt.autoscale()\n",
    "plt.show()"
   ]
  },
  {
   "cell_type": "code",
   "execution_count": 9,
   "metadata": {},
   "outputs": [
    {
     "data": {
      "image/png": "[encoded data removed]",
      "text/plain": [
       "<Figure size 1152x1152 with 2 Axes>"
      ]
     },
     "metadata": {
      "needs_background": "light"
     },
     "output_type": "display_data"
    }
   ],
   "source": [
    "# checking multicolinearity between max features\n",
    "corr = df_max.corr()\n",
    "mask = np.zeros_like(corr, dtype=np.bool)\n",
    "mask[np.triu_indices_from(mask)] = True\n",
    "\n",
    "plt.figure(figsize=(16,16))\n",
    "sns.heatmap(corr,annot=True, mask=mask)\n",
    "plt.autoscale()\n",
    "plt.show()"
   ]
  },
  {
   "cell_type": "code",
   "execution_count": 10,
   "metadata": {},
   "outputs": [],
   "source": [
    "# choosing dependent and independent variables. Energy has high colinearity in both mean and max set,\n",
    "# so it will be discarded\n",
    "X_mean = rock_df[['speechiness_mean', 'danceability_mean', 'acousticness_mean',\n",
    "       'instrumentalness_mean', 'liveness_mean', 'valence_mean']]\n",
    "X_max = rock_df[['liveness_amax', 'speechiness_amax','valence_amax',\n",
    "                 'instrumentalness_amax', 'acousticness_amax', \n",
    "                 'danceability_amax']]\n",
    "y = rock_df[['score_amax']]"
   ]
  },
  {
   "cell_type": "code",
   "execution_count": 11,
   "metadata": {},
   "outputs": [],
   "source": [
    "# splitting in train and test\n",
    "X_train_mean, X_test_mean, y_train_mean, y_test_mean = train_test_split(X_mean, y, test_size = 0.20, random_state = 64)\n",
    "X_train_max, X_test_max, y_train_max, y_test_max = train_test_split(X_max, y, test_size = 0.20, random_state = 64)"
   ]
  },
  {
   "cell_type": "code",
   "execution_count": 12,
   "metadata": {},
   "outputs": [],
   "source": [
    "# splitting in train and validation\n",
    "X_train_mean_v, X_val_mean, y_train_mean_v, y_val_mean = train_test_split(X_train_mean, y_train_mean, test_size = 0.20, random_state = 64)\n",
    "X_train_max_v, X_val_max, y_train_max_v, y_val_max = train_test_split(X_train_max, y_train_max, test_size = 0.20, random_state = 64)"
   ]
  },
  {
   "cell_type": "markdown",
   "metadata": {},
   "source": [
    "## Baseline Model: Linear Regression"
   ]
  },
  {
   "cell_type": "code",
   "execution_count": 13,
   "metadata": {},
   "outputs": [],
   "source": [
    "# instantiate the model\n",
    "lin_reg = LinearRegression()\n",
    "\n",
    "# fit the model to mean\n",
    "lin_reg_mean = lin_reg.fit(X_train_mean_v, y_train_mean_v)"
   ]
  },
  {
   "cell_type": "code",
   "execution_count": 14,
   "metadata": {},
   "outputs": [
    {
     "name": "stdout",
     "output_type": "stream",
     "text": [
      "R^2 for training mean set: 0.02349857247066145\n",
      "R^2 for validation mean set: 0.012706543406271864\n"
     ]
    }
   ],
   "source": [
    "print(f'R^2 for training mean set: {lin_reg_mean.score(X_train_mean_v, y_train_mean_v)}')\n",
    "print(f'R^2 for validation mean set: {lin_reg_mean.score(X_val_mean, y_val_mean)}')"
   ]
  },
  {
   "cell_type": "code",
   "execution_count": 15,
   "metadata": {},
   "outputs": [],
   "source": [
    "# fit the model to max\n",
    "lin_reg_max = lin_reg.fit(X_train_max_v, y_train_max_v)"
   ]
  },
  {
   "cell_type": "code",
   "execution_count": 16,
   "metadata": {},
   "outputs": [
    {
     "name": "stdout",
     "output_type": "stream",
     "text": [
      "R^2 for training mean set: 0.012819709654594004\n",
      "R^2 for validation mean set: -0.005027961142106463\n"
     ]
    }
   ],
   "source": [
    "print(f'R^2 for training mean set: {lin_reg_max.score(X_train_max_v, y_train_max_v)}')\n",
    "print(f'R^2 for validation mean set: {lin_reg_max.score(X_val_max, y_val_max)}')"
   ]
  },
  {
   "cell_type": "markdown",
   "metadata": {},
   "source": [
    "Mean set performs better than max set but the values are still quite low."
   ]
  },
  {
   "cell_type": "markdown",
   "metadata": {},
   "source": [
    "## Ridge Regression"
   ]
  },
  {
   "cell_type": "code",
   "execution_count": 17,
   "metadata": {},
   "outputs": [],
   "source": [
    "# instantiate the model\n",
    "ridge = Ridge()"
   ]
  },
  {
   "cell_type": "code",
   "execution_count": 18,
   "metadata": {},
   "outputs": [],
   "source": [
    "# fit the model to mean\n",
    "ridge_mean = ridge.fit(X_train_mean_v, y_train_mean_v)"
   ]
  },
  {
   "cell_type": "code",
   "execution_count": 19,
   "metadata": {},
   "outputs": [
    {
     "name": "stdout",
     "output_type": "stream",
     "text": [
      "R^2 for training mean set: 0.022372995876253854\n",
      "R^2 for validation mean set: 0.014120697228876544\n"
     ]
    }
   ],
   "source": [
    "print(f'R^2 for training mean set: {ridge_mean.score(X_train_mean_v, y_train_mean_v)}')\n",
    "print(f'R^2 for validation mean set: {ridge_mean.score(X_val_mean, y_val_mean)}')"
   ]
  },
  {
   "cell_type": "code",
   "execution_count": 20,
   "metadata": {},
   "outputs": [],
   "source": [
    "# fit the model to max\n",
    "ridge_max = ridge.fit(X_train_max_v, y_train_max_v)"
   ]
  },
  {
   "cell_type": "code",
   "execution_count": 21,
   "metadata": {},
   "outputs": [
    {
     "name": "stdout",
     "output_type": "stream",
     "text": [
      "R^2 for training mean set: 0.01265625344829624\n",
      "R^2 for validation mean set: -0.004735245311732195\n"
     ]
    }
   ],
   "source": [
    "print(f'R^2 for training mean set: {ridge_max.score(X_train_max_v, y_train_max_v)}')\n",
    "print(f'R^2 for validation mean set: {ridge_max.score(X_val_max, y_val_max)}')"
   ]
  },
  {
   "cell_type": "markdown",
   "metadata": {},
   "source": [
    "Ridge unoptimized is yielding almost the same results as linear regression, but we'll try to optimize some parameters through GridSearchCV"
   ]
  },
  {
   "cell_type": "markdown",
   "metadata": {},
   "source": [
    "### Parameter Optimization"
   ]
  },
  {
   "cell_type": "code",
   "execution_count": 22,
   "metadata": {},
   "outputs": [
    {
     "name": "stdout",
     "output_type": "stream",
     "text": [
      "Fitting 3 folds for each of 11 candidates, totalling 33 fits\n"
     ]
    },
    {
     "name": "stderr",
     "output_type": "stream",
     "text": [
      "[Parallel(n_jobs=-1)]: Using backend LokyBackend with 4 concurrent workers.\n"
     ]
    },
    {
     "name": "stdout",
     "output_type": "stream",
     "text": [
      "Best Score:  0.004598770479330174\n",
      "Best Params:  {'alpha': 1}\n"
     ]
    },
    {
     "name": "stderr",
     "output_type": "stream",
     "text": [
      "[Parallel(n_jobs=-1)]: Done  26 out of  33 | elapsed:    4.2s remaining:    1.1s\n",
      "[Parallel(n_jobs=-1)]: Done  33 out of  33 | elapsed:    4.2s finished\n"
     ]
    }
   ],
   "source": [
    "# optimizing alpha for mean set\n",
    "\n",
    "alpha = [0.001, 0.01, 0.1, 1, 10, 20, 30, 40, 50, 100, 1000]\n",
    "param_grid = dict(alpha=alpha)\n",
    "\n",
    "grid_mean = GridSearchCV(estimator=ridge, param_grid=param_grid, scoring='r2', verbose=1, n_jobs=-1)\n",
    "\n",
    "grid_mean.fit(X_train_mean_v, y_train_mean_v)\n",
    "#grid_result_mean = grid.fit(X_train_mean_v, y_train_mean_v)\n",
    "\n",
    "print('Best Score: ', grid_mean.best_score_)\n",
    "print('Best Params: ', grid_mean.best_params_)"
   ]
  },
  {
   "cell_type": "code",
   "execution_count": 23,
   "metadata": {},
   "outputs": [
    {
     "name": "stderr",
     "output_type": "stream",
     "text": [
      "[Parallel(n_jobs=-1)]: Using backend LokyBackend with 4 concurrent workers.\n"
     ]
    },
    {
     "name": "stdout",
     "output_type": "stream",
     "text": [
      "Fitting 3 folds for each of 11 candidates, totalling 33 fits\n",
      "Best Score:  -0.006833259247992036\n",
      "Best Params:  {'alpha': 10}\n"
     ]
    },
    {
     "name": "stderr",
     "output_type": "stream",
     "text": [
      "[Parallel(n_jobs=-1)]: Done  33 out of  33 | elapsed:    0.3s finished\n"
     ]
    }
   ],
   "source": [
    "# optimizing alpha for max set\n",
    "\n",
    "alpha = [0.001, 0.01, 0.1, 1, 10, 20, 30, 40, 50, 100, 1000]\n",
    "param_grid = dict(alpha=alpha)\n",
    "\n",
    "grid_max = GridSearchCV(estimator=ridge, param_grid=param_grid, scoring='r2', verbose=1, n_jobs=-1)\n",
    "\n",
    "grid_max.fit(X_train_max_v, y_train_max_v)\n",
    "\n",
    "print('Best Score: ', grid_max.best_score_)\n",
    "print('Best Params: ', grid_max.best_params_)"
   ]
  },
  {
   "cell_type": "code",
   "execution_count": 24,
   "metadata": {},
   "outputs": [],
   "source": [
    "ridge_mean_opt = grid_mean.best_estimator_"
   ]
  },
  {
   "cell_type": "code",
   "execution_count": 25,
   "metadata": {},
   "outputs": [
    {
     "name": "stdout",
     "output_type": "stream",
     "text": [
      "R^2 for training mean set: 0.022372995876253854\n",
      "R^2 for validation mean set: 0.014120697228876544\n"
     ]
    }
   ],
   "source": [
    "print(f'R^2 for training mean set: {ridge_mean_opt.score(X_train_mean_v, y_train_mean_v)}')\n",
    "print(f'R^2 for validation mean set: {ridge_mean_opt.score(X_val_mean, y_val_mean)}')"
   ]
  },
  {
   "cell_type": "code",
   "execution_count": 26,
   "metadata": {},
   "outputs": [],
   "source": [
    "ridge_max_opt = grid_max.best_estimator_"
   ]
  },
  {
   "cell_type": "code",
   "execution_count": 27,
   "metadata": {},
   "outputs": [
    {
     "name": "stdout",
     "output_type": "stream",
     "text": [
      "R^2 for training mean set: 0.009543787771691847\n",
      "R^2 for validation mean set: -0.005366338807802462\n"
     ]
    }
   ],
   "source": [
    "print(f'R^2 for training mean set: {ridge_max_opt.score(X_train_max_v, y_train_max_v)}')\n",
    "print(f'R^2 for validation mean set: {ridge_max_opt.score(X_val_max, y_val_max)}')"
   ]
  },
  {
   "cell_type": "markdown",
   "metadata": {},
   "source": [
    "## Model Selection and Final Test"
   ]
  },
  {
   "cell_type": "markdown",
   "metadata": {},
   "source": [
    "Optimized ridge regression performed slightly better compared to regular linear regression. Negative values can probably be explained by a relativley small pool for the validation target, but were still mitigated by the optimization."
   ]
  },
  {
   "cell_type": "markdown",
   "metadata": {},
   "source": [
    "### Mean features test"
   ]
  },
  {
   "cell_type": "code",
   "execution_count": 30,
   "metadata": {},
   "outputs": [
    {
     "name": "stdout",
     "output_type": "stream",
     "text": [
      "Test r^2: 0.05487737620785704 \n",
      "Test MSE: 0.8398635339080691\n"
     ]
    }
   ],
   "source": [
    "test_r_squared_mean = ridge_mean_opt.score(X_test_mean, y_test_mean)\n",
    "\n",
    "y_pred_test_mean = ridge_mean_opt.predict(X_test_mean)\n",
    "test_mse_mean = np.sqrt(mean_squared_error(y_test_mean, y_pred_test_mean))\n",
    "\n",
    "print(f'Test r^2: {test_r_squared_mean} \\nTest MSE: {test_mse_mean}')"
   ]
  },
  {
   "cell_type": "code",
   "execution_count": 34,
   "metadata": {},
   "outputs": [
    {
     "name": "stdout",
     "output_type": "stream",
     "text": [
      "The initial R-Squared value for the ridge model is: 0.0224\n",
      "The Mean Squared Error value for the ridge model is: 0.9744\n",
      "The Mean Absolute Error value for the ridge model is: 0.7221\n"
     ]
    }
   ],
   "source": [
    "initial_score_r_mean = ridge_mean_opt.score(X_train_mean_v, y_train_mean_v)\n",
    "print('The initial R-Squared value for the ridge model is:', initial_score_r_mean.round(4))\n",
    "\n",
    "X_train_v_predidct_ridge_mean = ridge_mean_opt.predict(X_train_mean_v)\n",
    "\n",
    "mse_mean = mean_squared_error(y_train_mean_v, X_train_v_predidct_ridge_mean)\n",
    "print('The Mean Squared Error value for the ridge model is:', mse_mean.round(4))\n",
    "\n",
    "mae_mean = mean_absolute_error(y_train_mean_v, X_train_v_predidct_ridge_mean)\n",
    "print('The Mean Absolute Error value for the ridge model is:', mae_mean.round(4))"
   ]
  },
  {
   "cell_type": "code",
   "execution_count": 35,
   "metadata": {},
   "outputs": [
    {
     "data": {
      "text/plain": [
       "0.05487737620785704"
      ]
     },
     "execution_count": 35,
     "metadata": {},
     "output_type": "execute_result"
    }
   ],
   "source": [
    "#final model intialisation\n",
    "ridge_test_mean = ridge_mean_opt.score(X_test_mean, y_test_mean)\n",
    "ridge_test_mean"
   ]
  },
  {
   "cell_type": "code",
   "execution_count": 36,
   "metadata": {},
   "outputs": [
    {
     "data": {
      "text/plain": [
       "array([[ 0.456066  , -1.13231604,  0.40811014,  0.07262665, -0.02614624,\n",
       "         0.36660394]])"
      ]
     },
     "execution_count": 36,
     "metadata": {},
     "output_type": "execute_result"
    }
   ],
   "source": [
    "ridge_mean_opt.coef_"
   ]
  },
  {
   "cell_type": "code",
   "execution_count": 37,
   "metadata": {},
   "outputs": [
    {
     "data": {
      "text/plain": [
       "Text(0, 0.5, 'Feature')"
      ]
     },
     "execution_count": 37,
     "metadata": {},
     "output_type": "execute_result"
    },
    {
     "data": {
      "image/png": "[encoded data removed]",
      "text/plain": [
       "<Figure size 576x576 with 1 Axes>"
      ]
     },
     "metadata": {
      "needs_background": "light"
     },
     "output_type": "display_data"
    }
   ],
   "source": [
    "test_mean_coeffs = [0.456066, -1.13231604, 0.40811014, 0.07262665, -0.02614624, 0.36660394]\n",
    "\n",
    "#determine feature importances\n",
    "n_features = X_train_mean.shape[1]\n",
    "plt.figure(figsize=(8,8))\n",
    "plt.barh(range(n_features), test_mean_coeffs, align='center', color='mediumturquoise')\n",
    "plt.title('Feature Importance Plot')\n",
    "plt.yticks(np.arange(n_features), X_train_mean.columns.values)\n",
    "plt.xlabel('Feature importance')\n",
    "plt.ylabel('Feature')"
   ]
  },
  {
   "cell_type": "markdown",
   "metadata": {},
   "source": [
    "### Max features test"
   ]
  },
  {
   "cell_type": "code",
   "execution_count": 38,
   "metadata": {},
   "outputs": [
    {
     "name": "stdout",
     "output_type": "stream",
     "text": [
      "Test r^2: 0.0025382463768389707 \n",
      "Test MSE: 1.203194379920142\n"
     ]
    }
   ],
   "source": [
    "test_r_squared_max = ridge_max_opt.score(X_test_max, y_test_max)\n",
    "\n",
    "y_pred_test_max = ridge_mean_opt.predict(X_test_max)\n",
    "test_mse_max = np.sqrt(mean_squared_error(y_test_max, y_pred_test_max))\n",
    "\n",
    "print(f'Test r^2: {test_r_squared_max} \\nTest MSE: {test_mse_max}')"
   ]
  },
  {
   "cell_type": "code",
   "execution_count": 40,
   "metadata": {},
   "outputs": [
    {
     "name": "stdout",
     "output_type": "stream",
     "text": [
      "The initial R-Squared value for the ridge model is: 0.0095\n",
      "The Mean Squared Error value for the ridge model is: 0.9871\n",
      "The Mean Absolute Error value for the ridge model is: 0.7275\n"
     ]
    }
   ],
   "source": [
    "initial_score_r_max = ridge_max_opt.score(X_train_max_v, y_train_max_v)\n",
    "print('The initial R-Squared value for the ridge model is:', initial_score_r_max.round(4))\n",
    "\n",
    "X_train_v_predidct_ridge_max = ridge_max_opt.predict(X_train_max_v)\n",
    "\n",
    "mse_max = mean_squared_error(y_train_max_v, X_train_v_predidct_ridge_max)\n",
    "print('The Mean Squared Error value for the ridge model is:', mse_max.round(4))\n",
    "\n",
    "mae_max = mean_absolute_error(y_train_max_v, X_train_v_predidct_ridge_max)\n",
    "print('The Mean Absolute Error value for the ridge model is:', mae_max.round(4))"
   ]
  },
  {
   "cell_type": "code",
   "execution_count": 41,
   "metadata": {},
   "outputs": [
    {
     "data": {
      "text/plain": [
       "0.0025382463768389707"
      ]
     },
     "execution_count": 41,
     "metadata": {},
     "output_type": "execute_result"
    }
   ],
   "source": [
    "#final model intialisation\n",
    "ridge_test_max = ridge_max_opt.score(X_test_max, y_test_max)\n",
    "ridge_test_max"
   ]
  },
  {
   "cell_type": "code",
   "execution_count": 42,
   "metadata": {},
   "outputs": [
    {
     "data": {
      "text/plain": [
       "array([[ 0.07522784,  0.15867429,  0.02232201,  0.10646334,  0.01088425,\n",
       "        -0.35632282]])"
      ]
     },
     "execution_count": 42,
     "metadata": {},
     "output_type": "execute_result"
    }
   ],
   "source": [
    "ridge_max_opt.coef_"
   ]
  },
  {
   "cell_type": "code",
   "execution_count": 43,
   "metadata": {},
   "outputs": [
    {
     "data": {
      "text/plain": [
       "Text(0, 0.5, 'Feature')"
      ]
     },
     "execution_count": 43,
     "metadata": {},
     "output_type": "execute_result"
    },
    {
     "data": {
      "image/png": "[encoded data removed]",
      "text/plain": [
       "<Figure size 576x576 with 1 Axes>"
      ]
     },
     "metadata": {
      "needs_background": "light"
     },
     "output_type": "display_data"
    }
   ],
   "source": [
    "test_max_coeffs = [ 0.07522784,  0.15867429,  0.02232201,  0.10646334,  0.01088425, -0.35632282]\n",
    "#determine feature importances\n",
    "n_features = X_train_max.shape[1]\n",
    "plt.figure(figsize=(8,8))\n",
    "plt.barh(range(n_features), test_max_coeffs, align='center', color='salmon')\n",
    "plt.title('Feature Importance Plot')\n",
    "plt.yticks(np.arange(n_features), X_train_max.columns.values)\n",
    "plt.xlabel('Feature importance')\n",
    "plt.ylabel('Feature')"
   ]
  },
  {
   "cell_type": "markdown",
   "metadata": {},
   "source": [
    "# Conclusions"
   ]
  },
  {
   "cell_type": "markdown",
   "metadata": {},
   "source": [
    "The resulting r2 is relatively low, but we're still able to see which features influence the most a critic's score. Definitely don't make your album too danceable and focus a little more on lyricism. There's a bit of inconsistency with valence and acousticness between values: while the album should be overall positive and with acoustic instruments, it seems it doesn't influence a lot the individual songs. It's also worth noting that Max features have a significantly smaller influence than mean values."
   ]
  },
  {
   "cell_type": "markdown",
   "metadata": {},
   "source": [
    "### Further Developments "
   ]
  },
  {
   "cell_type": "markdown",
   "metadata": {},
   "source": [
    "As it stands, we don't have enough points of reference to see if the model actually reflects the trends of the genres it's fitted on. I simply advise gathering enough data to create more models to fit on different genres."
   ]
  }
 ],
 "metadata": {
  "kernelspec": {
   "display_name": "Python 3",
   "language": "python",
   "name": "python3"
  },
  "language_info": {
   "codemirror_mode": {
    "name": "ipython",
    "version": 3
   },
   "file_extension": ".py",
   "mimetype": "text/x-python",
   "name": "python",
   "nbconvert_exporter": "python",
   "pygments_lexer": "ipython3",
   "version": "3.7.4"
  }
 },
 "nbformat": 4,
 "nbformat_minor": 2
}
