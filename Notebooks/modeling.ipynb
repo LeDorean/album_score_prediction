{
 "cells": [
  {
   "cell_type": "code",
   "execution_count": 3,
   "metadata": {},
   "outputs": [],
   "source": [
    "#import packages\n",
    "import pandas as pd\n",
    "pd.set_option('display.max_columns', None)\n",
    "import matplotlib.pyplot as plt\n",
    "import matplotlib.style as style\n",
    "style.use('fivethirtyeight')\n",
    "import seaborn as sns\n",
    "import numpy as np\n",
    "from scipy import stats\n",
    "from statsmodels.formula.api import ols\n",
    "import statsmodels.api as sm\n",
    "from sklearn.dummy import DummyRegressor\n",
    "from sklearn.linear_model import LassoCV\n",
    "from sklearn.linear_model import RidgeCV\n",
    "from sklearn.feature_selection import RFE, RFECV\n",
    "from sklearn.model_selection import train_test_split\n",
    "from sklearn.preprocessing import StandardScaler\n",
    "from sklearn.preprocessing import MinMaxScaler\n",
    "from sklearn.feature_selection import f_regression, mutual_info_regression, SelectKBest\n",
    "from sklearn.preprocessing import PolynomialFeatures\n",
    "from sklearn.feature_selection import VarianceThreshold\n",
    "from sklearn import preprocessing\n",
    "from sklearn.linear_model import Lasso, Ridge, LinearRegression\n",
    "from sklearn.model_selection import cross_val_score\n",
    "from sklearn.model_selection import KFold\n",
    "import seaborn as sns\n",
    "import statsmodels.api as sm\n",
    "from statsmodels.stats import diagnostic as diag\n",
    "from statsmodels.stats.outliers_influence import variance_inflation_factor\n",
    "from sklearn.linear_model import LinearRegression\n",
    "from sklearn.linear_model import Lasso, Ridge\n",
    "from sklearn.model_selection import train_test_split\n",
    "from sklearn.metrics import mean_squared_error, r2_score, mean_absolute_error\n",
    "from scipy import stats\n",
    "from sklearn.model_selection import GridSearchCV\n",
    "from sklearn.preprocessing import MinMaxScaler\n",
    "from itertools import combinations\n",
    "from sklearn.metrics import mean_absolute_error, mean_squared_error\n",
    "from scipy.stats import shapiro\n",
    "from sklearn.impute import SimpleImputer\n",
    "from sklearn.metrics import accuracy_score, r2_score\n",
    "import warnings\n",
    "warnings.filterwarnings('ignore')\n",
    "%matplotlib inline\n"
   ]
  },
  {
   "cell_type": "markdown",
   "metadata": {},
   "source": [
    "# 1. Data Preparation"
   ]
  },
  {
   "cell_type": "markdown",
   "metadata": {},
   "source": [
    "## Import data"
   ]
  },
  {
   "cell_type": "code",
   "execution_count": 4,
   "metadata": {},
   "outputs": [],
   "source": [
    "#load dataframe\n",
    "df = pd.read_pickle('album_df.pkl')\n",
    "df.dropna(inplace=True)"
   ]
  },
  {
   "cell_type": "code",
   "execution_count": 5,
   "metadata": {},
   "outputs": [
    {
     "data": {
      "text/html": [
       "<div>\n",
       "<style scoped>\n",
       "    .dataframe tbody tr th:only-of-type {\n",
       "        vertical-align: middle;\n",
       "    }\n",
       "\n",
       "    .dataframe tbody tr th {\n",
       "        vertical-align: top;\n",
       "    }\n",
       "\n",
       "    .dataframe thead th {\n",
       "        text-align: right;\n",
       "    }\n",
       "</style>\n",
       "<table border=\"1\" class=\"dataframe\">\n",
       "  <thead>\n",
       "    <tr style=\"text-align: right;\">\n",
       "      <th></th>\n",
       "      <th>album_run_time_ms</th>\n",
       "      <th>number_of_tracks</th>\n",
       "      <th>std_in_energy</th>\n",
       "      <th>std_in_speechiness</th>\n",
       "      <th>danceability_mean</th>\n",
       "      <th>acousticness_mean</th>\n",
       "      <th>instrumentalness_mean</th>\n",
       "      <th>loudness_mean</th>\n",
       "      <th>tempo_mean</th>\n",
       "      <th>energy_amax</th>\n",
       "      <th>liveness_amax</th>\n",
       "      <th>speechiness_amax</th>\n",
       "      <th>valence_amax</th>\n",
       "      <th>tempo_amax</th>\n",
       "      <th>time_signature_amax</th>\n",
       "      <th>popularity_amax</th>\n",
       "      <th>score_amax</th>\n",
       "      <th>num_markets_amax</th>\n",
       "      <th>is_explicit_amax</th>\n",
       "      <th>mode_amax</th>\n",
       "      <th>key_amax</th>\n",
       "      <th>genre</th>\n",
       "    </tr>\n",
       "  </thead>\n",
       "  <tbody>\n",
       "    <tr>\n",
       "      <td>02o1jXAin1PmiYxmln4WnE</td>\n",
       "      <td>1685371.0</td>\n",
       "      <td>10.0</td>\n",
       "      <td>0.210706</td>\n",
       "      <td>0.009939</td>\n",
       "      <td>0.418500</td>\n",
       "      <td>0.080014</td>\n",
       "      <td>0.000862</td>\n",
       "      <td>-5.421200</td>\n",
       "      <td>138.344600</td>\n",
       "      <td>0.915</td>\n",
       "      <td>0.400</td>\n",
       "      <td>0.0598</td>\n",
       "      <td>0.932</td>\n",
       "      <td>175.951</td>\n",
       "      <td>4</td>\n",
       "      <td>9.0</td>\n",
       "      <td>6.8</td>\n",
       "      <td>79</td>\n",
       "      <td>False</td>\n",
       "      <td>1.0</td>\n",
       "      <td>11.0</td>\n",
       "      <td>rock</td>\n",
       "    </tr>\n",
       "    <tr>\n",
       "      <td>02sEJTj1sye1JaqxqpcSCp</td>\n",
       "      <td>3143823.0</td>\n",
       "      <td>14.0</td>\n",
       "      <td>0.161621</td>\n",
       "      <td>0.045708</td>\n",
       "      <td>0.601786</td>\n",
       "      <td>0.120152</td>\n",
       "      <td>0.076961</td>\n",
       "      <td>-4.511929</td>\n",
       "      <td>121.551643</td>\n",
       "      <td>0.939</td>\n",
       "      <td>0.691</td>\n",
       "      <td>0.1780</td>\n",
       "      <td>0.467</td>\n",
       "      <td>169.987</td>\n",
       "      <td>4</td>\n",
       "      <td>80.0</td>\n",
       "      <td>5.3</td>\n",
       "      <td>76</td>\n",
       "      <td>True</td>\n",
       "      <td>1.0</td>\n",
       "      <td>11.0</td>\n",
       "      <td>electronic</td>\n",
       "    </tr>\n",
       "    <tr>\n",
       "      <td>03CgI5yzuOcyRkkDOyCazP</td>\n",
       "      <td>1998917.0</td>\n",
       "      <td>11.0</td>\n",
       "      <td>0.123559</td>\n",
       "      <td>0.157071</td>\n",
       "      <td>0.417545</td>\n",
       "      <td>0.122944</td>\n",
       "      <td>0.315466</td>\n",
       "      <td>-8.302364</td>\n",
       "      <td>120.664545</td>\n",
       "      <td>0.855</td>\n",
       "      <td>0.320</td>\n",
       "      <td>0.4520</td>\n",
       "      <td>0.620</td>\n",
       "      <td>196.424</td>\n",
       "      <td>4</td>\n",
       "      <td>50.0</td>\n",
       "      <td>6.8</td>\n",
       "      <td>78</td>\n",
       "      <td>False</td>\n",
       "      <td>1.0</td>\n",
       "      <td>11.0</td>\n",
       "      <td>electronic</td>\n",
       "    </tr>\n",
       "    <tr>\n",
       "      <td>05vg15zAZuJneWQucqWaIa</td>\n",
       "      <td>1740996.0</td>\n",
       "      <td>10.0</td>\n",
       "      <td>0.053382</td>\n",
       "      <td>0.071112</td>\n",
       "      <td>0.372300</td>\n",
       "      <td>0.000115</td>\n",
       "      <td>0.111160</td>\n",
       "      <td>-4.257100</td>\n",
       "      <td>128.057000</td>\n",
       "      <td>0.943</td>\n",
       "      <td>0.323</td>\n",
       "      <td>0.2690</td>\n",
       "      <td>0.713</td>\n",
       "      <td>197.282</td>\n",
       "      <td>4</td>\n",
       "      <td>7.0</td>\n",
       "      <td>6.7</td>\n",
       "      <td>79</td>\n",
       "      <td>False</td>\n",
       "      <td>1.0</td>\n",
       "      <td>11.0</td>\n",
       "      <td>rock</td>\n",
       "    </tr>\n",
       "    <tr>\n",
       "      <td>06qL01wLa4kVWGloqSHDYD</td>\n",
       "      <td>1487559.0</td>\n",
       "      <td>10.0</td>\n",
       "      <td>0.104159</td>\n",
       "      <td>0.024700</td>\n",
       "      <td>0.231700</td>\n",
       "      <td>0.000754</td>\n",
       "      <td>0.775900</td>\n",
       "      <td>-6.111300</td>\n",
       "      <td>117.426500</td>\n",
       "      <td>0.979</td>\n",
       "      <td>0.643</td>\n",
       "      <td>0.1220</td>\n",
       "      <td>0.499</td>\n",
       "      <td>155.459</td>\n",
       "      <td>4</td>\n",
       "      <td>7.0</td>\n",
       "      <td>7.0</td>\n",
       "      <td>79</td>\n",
       "      <td>True</td>\n",
       "      <td>1.0</td>\n",
       "      <td>11.0</td>\n",
       "      <td>rock</td>\n",
       "    </tr>\n",
       "  </tbody>\n",
       "</table>\n",
       "</div>"
      ],
      "text/plain": [
       "                        album_run_time_ms  number_of_tracks  std_in_energy  \\\n",
       "02o1jXAin1PmiYxmln4WnE          1685371.0              10.0       0.210706   \n",
       "02sEJTj1sye1JaqxqpcSCp          3143823.0              14.0       0.161621   \n",
       "03CgI5yzuOcyRkkDOyCazP          1998917.0              11.0       0.123559   \n",
       "05vg15zAZuJneWQucqWaIa          1740996.0              10.0       0.053382   \n",
       "06qL01wLa4kVWGloqSHDYD          1487559.0              10.0       0.104159   \n",
       "\n",
       "                        std_in_speechiness  danceability_mean  \\\n",
       "02o1jXAin1PmiYxmln4WnE            0.009939           0.418500   \n",
       "02sEJTj1sye1JaqxqpcSCp            0.045708           0.601786   \n",
       "03CgI5yzuOcyRkkDOyCazP            0.157071           0.417545   \n",
       "05vg15zAZuJneWQucqWaIa            0.071112           0.372300   \n",
       "06qL01wLa4kVWGloqSHDYD            0.024700           0.231700   \n",
       "\n",
       "                        acousticness_mean  instrumentalness_mean  \\\n",
       "02o1jXAin1PmiYxmln4WnE           0.080014               0.000862   \n",
       "02sEJTj1sye1JaqxqpcSCp           0.120152               0.076961   \n",
       "03CgI5yzuOcyRkkDOyCazP           0.122944               0.315466   \n",
       "05vg15zAZuJneWQucqWaIa           0.000115               0.111160   \n",
       "06qL01wLa4kVWGloqSHDYD           0.000754               0.775900   \n",
       "\n",
       "                        loudness_mean  tempo_mean  energy_amax  liveness_amax  \\\n",
       "02o1jXAin1PmiYxmln4WnE      -5.421200  138.344600        0.915          0.400   \n",
       "02sEJTj1sye1JaqxqpcSCp      -4.511929  121.551643        0.939          0.691   \n",
       "03CgI5yzuOcyRkkDOyCazP      -8.302364  120.664545        0.855          0.320   \n",
       "05vg15zAZuJneWQucqWaIa      -4.257100  128.057000        0.943          0.323   \n",
       "06qL01wLa4kVWGloqSHDYD      -6.111300  117.426500        0.979          0.643   \n",
       "\n",
       "                        speechiness_amax  valence_amax  tempo_amax  \\\n",
       "02o1jXAin1PmiYxmln4WnE            0.0598         0.932     175.951   \n",
       "02sEJTj1sye1JaqxqpcSCp            0.1780         0.467     169.987   \n",
       "03CgI5yzuOcyRkkDOyCazP            0.4520         0.620     196.424   \n",
       "05vg15zAZuJneWQucqWaIa            0.2690         0.713     197.282   \n",
       "06qL01wLa4kVWGloqSHDYD            0.1220         0.499     155.459   \n",
       "\n",
       "                        time_signature_amax  popularity_amax  score_amax  \\\n",
       "02o1jXAin1PmiYxmln4WnE                    4              9.0         6.8   \n",
       "02sEJTj1sye1JaqxqpcSCp                    4             80.0         5.3   \n",
       "03CgI5yzuOcyRkkDOyCazP                    4             50.0         6.8   \n",
       "05vg15zAZuJneWQucqWaIa                    4              7.0         6.7   \n",
       "06qL01wLa4kVWGloqSHDYD                    4              7.0         7.0   \n",
       "\n",
       "                        num_markets_amax  is_explicit_amax  mode_amax  \\\n",
       "02o1jXAin1PmiYxmln4WnE                79             False        1.0   \n",
       "02sEJTj1sye1JaqxqpcSCp                76              True        1.0   \n",
       "03CgI5yzuOcyRkkDOyCazP                78             False        1.0   \n",
       "05vg15zAZuJneWQucqWaIa                79             False        1.0   \n",
       "06qL01wLa4kVWGloqSHDYD                79              True        1.0   \n",
       "\n",
       "                        key_amax       genre  \n",
       "02o1jXAin1PmiYxmln4WnE      11.0        rock  \n",
       "02sEJTj1sye1JaqxqpcSCp      11.0  electronic  \n",
       "03CgI5yzuOcyRkkDOyCazP      11.0  electronic  \n",
       "05vg15zAZuJneWQucqWaIa      11.0        rock  \n",
       "06qL01wLa4kVWGloqSHDYD      11.0        rock  "
      ]
     },
     "execution_count": 5,
     "metadata": {},
     "output_type": "execute_result"
    }
   ],
   "source": [
    "df.head()"
   ]
  },
  {
   "cell_type": "code",
   "execution_count": 6,
   "metadata": {},
   "outputs": [
    {
     "name": "stdout",
     "output_type": "stream",
     "text": [
      "<class 'pandas.core.frame.DataFrame'>\n",
      "Index: 550 entries, 02o1jXAin1PmiYxmln4WnE to 7xf6mmYeYnTHjPFR0BeIre\n",
      "Data columns (total 22 columns):\n",
      "album_run_time_ms        550 non-null float64\n",
      "number_of_tracks         550 non-null float64\n",
      "std_in_energy            550 non-null float64\n",
      "std_in_speechiness       550 non-null float64\n",
      "danceability_mean        550 non-null float64\n",
      "acousticness_mean        550 non-null float64\n",
      "instrumentalness_mean    550 non-null float64\n",
      "loudness_mean            550 non-null float64\n",
      "tempo_mean               550 non-null float64\n",
      "energy_amax              550 non-null float64\n",
      "liveness_amax            550 non-null float64\n",
      "speechiness_amax         550 non-null float64\n",
      "valence_amax             550 non-null float64\n",
      "tempo_amax               550 non-null float64\n",
      "time_signature_amax      550 non-null int64\n",
      "popularity_amax          550 non-null float64\n",
      "score_amax               550 non-null float64\n",
      "num_markets_amax         550 non-null int64\n",
      "is_explicit_amax         550 non-null bool\n",
      "mode_amax                550 non-null float64\n",
      "key_amax                 550 non-null float64\n",
      "genre                    550 non-null object\n",
      "dtypes: bool(1), float64(18), int64(2), object(1)\n",
      "memory usage: 95.1+ KB\n"
     ]
    }
   ],
   "source": [
    "df.info()"
   ]
  },
  {
   "cell_type": "code",
   "execution_count": 7,
   "metadata": {},
   "outputs": [
    {
     "data": {
      "image/png": "[encoded data removed]",
      "text/plain": [
       "<Figure size 1152x1152 with 2 Axes>"
      ]
     },
     "metadata": {
      "needs_background": "light"
     },
     "output_type": "display_data"
    }
   ],
   "source": [
    "\n",
    "\n",
    "corr = df.corr()\n",
    "mask = np.zeros_like(corr, dtype=np.bool)\n",
    "mask[np.triu_indices_from(mask)] = True\n",
    "\n",
    "plt.figure(figsize=(16,16))\n",
    "sns.heatmap(corr,annot=True, mask=mask)\n",
    "plt.autoscale()\n",
    "plt.show()"
   ]
  },
  {
   "cell_type": "code",
   "execution_count": 8,
   "metadata": {},
   "outputs": [],
   "source": [
    "#get dummies for genre and explicit column\n",
    "gen_dummies = pd.get_dummies(df['genre'], drop_first=True)\n",
    "explicit_dummies = pd.get_dummies(df['is_explicit_amax'], prefix='explicit', drop_first=True)"
   ]
  },
  {
   "cell_type": "code",
   "execution_count": 9,
   "metadata": {},
   "outputs": [],
   "source": [
    "#rename columns to avoid error\n",
    "gen_dummies.rename(columns={'genre_folk/country':'Folk_Country', 'pop/r&b':'pop_rnb'}, inplace=True)"
   ]
  },
  {
   "cell_type": "code",
   "execution_count": 10,
   "metadata": {},
   "outputs": [],
   "source": [
    "#create final dataframe with scaled data, dummies, and target\n",
    "df_fin = pd.concat([df, gen_dummies, explicit_dummies], axis=1)"
   ]
  },
  {
   "cell_type": "code",
   "execution_count": 11,
   "metadata": {},
   "outputs": [
    {
     "data": {
      "text/html": [
       "<div>\n",
       "<style scoped>\n",
       "    .dataframe tbody tr th:only-of-type {\n",
       "        vertical-align: middle;\n",
       "    }\n",
       "\n",
       "    .dataframe tbody tr th {\n",
       "        vertical-align: top;\n",
       "    }\n",
       "\n",
       "    .dataframe thead th {\n",
       "        text-align: right;\n",
       "    }\n",
       "</style>\n",
       "<table border=\"1\" class=\"dataframe\">\n",
       "  <thead>\n",
       "    <tr style=\"text-align: right;\">\n",
       "      <th></th>\n",
       "      <th>album_run_time_ms</th>\n",
       "      <th>number_of_tracks</th>\n",
       "      <th>std_in_energy</th>\n",
       "      <th>std_in_speechiness</th>\n",
       "      <th>danceability_mean</th>\n",
       "      <th>acousticness_mean</th>\n",
       "      <th>instrumentalness_mean</th>\n",
       "      <th>loudness_mean</th>\n",
       "      <th>tempo_mean</th>\n",
       "      <th>energy_amax</th>\n",
       "      <th>liveness_amax</th>\n",
       "      <th>speechiness_amax</th>\n",
       "      <th>valence_amax</th>\n",
       "      <th>tempo_amax</th>\n",
       "      <th>time_signature_amax</th>\n",
       "      <th>popularity_amax</th>\n",
       "      <th>score_amax</th>\n",
       "      <th>num_markets_amax</th>\n",
       "      <th>is_explicit_amax</th>\n",
       "      <th>mode_amax</th>\n",
       "      <th>key_amax</th>\n",
       "      <th>experimental</th>\n",
       "      <th>folk/country</th>\n",
       "      <th>global</th>\n",
       "      <th>jazz</th>\n",
       "      <th>metal</th>\n",
       "      <th>pop_rnb</th>\n",
       "      <th>rap</th>\n",
       "      <th>rock</th>\n",
       "      <th>explicit_True</th>\n",
       "    </tr>\n",
       "  </thead>\n",
       "  <tbody>\n",
       "    <tr>\n",
       "      <td>02o1jXAin1PmiYxmln4WnE</td>\n",
       "      <td>1685371.0</td>\n",
       "      <td>10.0</td>\n",
       "      <td>0.210706</td>\n",
       "      <td>0.009939</td>\n",
       "      <td>0.418500</td>\n",
       "      <td>0.080014</td>\n",
       "      <td>0.000862</td>\n",
       "      <td>-5.421200</td>\n",
       "      <td>138.344600</td>\n",
       "      <td>0.915</td>\n",
       "      <td>0.400</td>\n",
       "      <td>0.0598</td>\n",
       "      <td>0.932</td>\n",
       "      <td>175.951</td>\n",
       "      <td>4</td>\n",
       "      <td>9.0</td>\n",
       "      <td>6.8</td>\n",
       "      <td>79</td>\n",
       "      <td>False</td>\n",
       "      <td>1.0</td>\n",
       "      <td>11.0</td>\n",
       "      <td>0</td>\n",
       "      <td>0</td>\n",
       "      <td>0</td>\n",
       "      <td>0</td>\n",
       "      <td>0</td>\n",
       "      <td>0</td>\n",
       "      <td>0</td>\n",
       "      <td>1</td>\n",
       "      <td>0</td>\n",
       "    </tr>\n",
       "    <tr>\n",
       "      <td>02sEJTj1sye1JaqxqpcSCp</td>\n",
       "      <td>3143823.0</td>\n",
       "      <td>14.0</td>\n",
       "      <td>0.161621</td>\n",
       "      <td>0.045708</td>\n",
       "      <td>0.601786</td>\n",
       "      <td>0.120152</td>\n",
       "      <td>0.076961</td>\n",
       "      <td>-4.511929</td>\n",
       "      <td>121.551643</td>\n",
       "      <td>0.939</td>\n",
       "      <td>0.691</td>\n",
       "      <td>0.1780</td>\n",
       "      <td>0.467</td>\n",
       "      <td>169.987</td>\n",
       "      <td>4</td>\n",
       "      <td>80.0</td>\n",
       "      <td>5.3</td>\n",
       "      <td>76</td>\n",
       "      <td>True</td>\n",
       "      <td>1.0</td>\n",
       "      <td>11.0</td>\n",
       "      <td>0</td>\n",
       "      <td>0</td>\n",
       "      <td>0</td>\n",
       "      <td>0</td>\n",
       "      <td>0</td>\n",
       "      <td>0</td>\n",
       "      <td>0</td>\n",
       "      <td>0</td>\n",
       "      <td>1</td>\n",
       "    </tr>\n",
       "    <tr>\n",
       "      <td>03CgI5yzuOcyRkkDOyCazP</td>\n",
       "      <td>1998917.0</td>\n",
       "      <td>11.0</td>\n",
       "      <td>0.123559</td>\n",
       "      <td>0.157071</td>\n",
       "      <td>0.417545</td>\n",
       "      <td>0.122944</td>\n",
       "      <td>0.315466</td>\n",
       "      <td>-8.302364</td>\n",
       "      <td>120.664545</td>\n",
       "      <td>0.855</td>\n",
       "      <td>0.320</td>\n",
       "      <td>0.4520</td>\n",
       "      <td>0.620</td>\n",
       "      <td>196.424</td>\n",
       "      <td>4</td>\n",
       "      <td>50.0</td>\n",
       "      <td>6.8</td>\n",
       "      <td>78</td>\n",
       "      <td>False</td>\n",
       "      <td>1.0</td>\n",
       "      <td>11.0</td>\n",
       "      <td>0</td>\n",
       "      <td>0</td>\n",
       "      <td>0</td>\n",
       "      <td>0</td>\n",
       "      <td>0</td>\n",
       "      <td>0</td>\n",
       "      <td>0</td>\n",
       "      <td>0</td>\n",
       "      <td>0</td>\n",
       "    </tr>\n",
       "    <tr>\n",
       "      <td>05vg15zAZuJneWQucqWaIa</td>\n",
       "      <td>1740996.0</td>\n",
       "      <td>10.0</td>\n",
       "      <td>0.053382</td>\n",
       "      <td>0.071112</td>\n",
       "      <td>0.372300</td>\n",
       "      <td>0.000115</td>\n",
       "      <td>0.111160</td>\n",
       "      <td>-4.257100</td>\n",
       "      <td>128.057000</td>\n",
       "      <td>0.943</td>\n",
       "      <td>0.323</td>\n",
       "      <td>0.2690</td>\n",
       "      <td>0.713</td>\n",
       "      <td>197.282</td>\n",
       "      <td>4</td>\n",
       "      <td>7.0</td>\n",
       "      <td>6.7</td>\n",
       "      <td>79</td>\n",
       "      <td>False</td>\n",
       "      <td>1.0</td>\n",
       "      <td>11.0</td>\n",
       "      <td>0</td>\n",
       "      <td>0</td>\n",
       "      <td>0</td>\n",
       "      <td>0</td>\n",
       "      <td>0</td>\n",
       "      <td>0</td>\n",
       "      <td>0</td>\n",
       "      <td>1</td>\n",
       "      <td>0</td>\n",
       "    </tr>\n",
       "    <tr>\n",
       "      <td>06qL01wLa4kVWGloqSHDYD</td>\n",
       "      <td>1487559.0</td>\n",
       "      <td>10.0</td>\n",
       "      <td>0.104159</td>\n",
       "      <td>0.024700</td>\n",
       "      <td>0.231700</td>\n",
       "      <td>0.000754</td>\n",
       "      <td>0.775900</td>\n",
       "      <td>-6.111300</td>\n",
       "      <td>117.426500</td>\n",
       "      <td>0.979</td>\n",
       "      <td>0.643</td>\n",
       "      <td>0.1220</td>\n",
       "      <td>0.499</td>\n",
       "      <td>155.459</td>\n",
       "      <td>4</td>\n",
       "      <td>7.0</td>\n",
       "      <td>7.0</td>\n",
       "      <td>79</td>\n",
       "      <td>True</td>\n",
       "      <td>1.0</td>\n",
       "      <td>11.0</td>\n",
       "      <td>0</td>\n",
       "      <td>0</td>\n",
       "      <td>0</td>\n",
       "      <td>0</td>\n",
       "      <td>0</td>\n",
       "      <td>0</td>\n",
       "      <td>0</td>\n",
       "      <td>1</td>\n",
       "      <td>1</td>\n",
       "    </tr>\n",
       "  </tbody>\n",
       "</table>\n",
       "</div>"
      ],
      "text/plain": [
       "                        album_run_time_ms  number_of_tracks  std_in_energy  \\\n",
       "02o1jXAin1PmiYxmln4WnE          1685371.0              10.0       0.210706   \n",
       "02sEJTj1sye1JaqxqpcSCp          3143823.0              14.0       0.161621   \n",
       "03CgI5yzuOcyRkkDOyCazP          1998917.0              11.0       0.123559   \n",
       "05vg15zAZuJneWQucqWaIa          1740996.0              10.0       0.053382   \n",
       "06qL01wLa4kVWGloqSHDYD          1487559.0              10.0       0.104159   \n",
       "\n",
       "                        std_in_speechiness  danceability_mean  \\\n",
       "02o1jXAin1PmiYxmln4WnE            0.009939           0.418500   \n",
       "02sEJTj1sye1JaqxqpcSCp            0.045708           0.601786   \n",
       "03CgI5yzuOcyRkkDOyCazP            0.157071           0.417545   \n",
       "05vg15zAZuJneWQucqWaIa            0.071112           0.372300   \n",
       "06qL01wLa4kVWGloqSHDYD            0.024700           0.231700   \n",
       "\n",
       "                        acousticness_mean  instrumentalness_mean  \\\n",
       "02o1jXAin1PmiYxmln4WnE           0.080014               0.000862   \n",
       "02sEJTj1sye1JaqxqpcSCp           0.120152               0.076961   \n",
       "03CgI5yzuOcyRkkDOyCazP           0.122944               0.315466   \n",
       "05vg15zAZuJneWQucqWaIa           0.000115               0.111160   \n",
       "06qL01wLa4kVWGloqSHDYD           0.000754               0.775900   \n",
       "\n",
       "                        loudness_mean  tempo_mean  energy_amax  liveness_amax  \\\n",
       "02o1jXAin1PmiYxmln4WnE      -5.421200  138.344600        0.915          0.400   \n",
       "02sEJTj1sye1JaqxqpcSCp      -4.511929  121.551643        0.939          0.691   \n",
       "03CgI5yzuOcyRkkDOyCazP      -8.302364  120.664545        0.855          0.320   \n",
       "05vg15zAZuJneWQucqWaIa      -4.257100  128.057000        0.943          0.323   \n",
       "06qL01wLa4kVWGloqSHDYD      -6.111300  117.426500        0.979          0.643   \n",
       "\n",
       "                        speechiness_amax  valence_amax  tempo_amax  \\\n",
       "02o1jXAin1PmiYxmln4WnE            0.0598         0.932     175.951   \n",
       "02sEJTj1sye1JaqxqpcSCp            0.1780         0.467     169.987   \n",
       "03CgI5yzuOcyRkkDOyCazP            0.4520         0.620     196.424   \n",
       "05vg15zAZuJneWQucqWaIa            0.2690         0.713     197.282   \n",
       "06qL01wLa4kVWGloqSHDYD            0.1220         0.499     155.459   \n",
       "\n",
       "                        time_signature_amax  popularity_amax  score_amax  \\\n",
       "02o1jXAin1PmiYxmln4WnE                    4              9.0         6.8   \n",
       "02sEJTj1sye1JaqxqpcSCp                    4             80.0         5.3   \n",
       "03CgI5yzuOcyRkkDOyCazP                    4             50.0         6.8   \n",
       "05vg15zAZuJneWQucqWaIa                    4              7.0         6.7   \n",
       "06qL01wLa4kVWGloqSHDYD                    4              7.0         7.0   \n",
       "\n",
       "                        num_markets_amax  is_explicit_amax  mode_amax  \\\n",
       "02o1jXAin1PmiYxmln4WnE                79             False        1.0   \n",
       "02sEJTj1sye1JaqxqpcSCp                76              True        1.0   \n",
       "03CgI5yzuOcyRkkDOyCazP                78             False        1.0   \n",
       "05vg15zAZuJneWQucqWaIa                79             False        1.0   \n",
       "06qL01wLa4kVWGloqSHDYD                79              True        1.0   \n",
       "\n",
       "                        key_amax  experimental  folk/country  global  jazz  \\\n",
       "02o1jXAin1PmiYxmln4WnE      11.0             0             0       0     0   \n",
       "02sEJTj1sye1JaqxqpcSCp      11.0             0             0       0     0   \n",
       "03CgI5yzuOcyRkkDOyCazP      11.0             0             0       0     0   \n",
       "05vg15zAZuJneWQucqWaIa      11.0             0             0       0     0   \n",
       "06qL01wLa4kVWGloqSHDYD      11.0             0             0       0     0   \n",
       "\n",
       "                        metal  pop_rnb  rap  rock  explicit_True  \n",
       "02o1jXAin1PmiYxmln4WnE      0        0    0     1              0  \n",
       "02sEJTj1sye1JaqxqpcSCp      0        0    0     0              1  \n",
       "03CgI5yzuOcyRkkDOyCazP      0        0    0     0              0  \n",
       "05vg15zAZuJneWQucqWaIa      0        0    0     1              0  \n",
       "06qL01wLa4kVWGloqSHDYD      0        0    0     1              1  "
      ]
     },
     "execution_count": 11,
     "metadata": {},
     "output_type": "execute_result"
    }
   ],
   "source": [
    "df_fin.dropna(inplace=True)\n",
    "df_fin.drop(columns=['genre'], inplace=True)\n",
    "df_fin.head()"
   ]
  },
  {
   "cell_type": "code",
   "execution_count": null,
   "metadata": {},
   "outputs": [],
   "source": []
  },
  {
   "cell_type": "markdown",
   "metadata": {},
   "source": [
    "Considering we have separate columns for mean values and max values, we'll run two separate tests on per model."
   ]
  },
  {
   "cell_type": "code",
   "execution_count": 12,
   "metadata": {},
   "outputs": [],
   "source": [
    "# choosing dependent and independent variables\n",
    "X_mean = df_fin[['std_in_energy', 'std_in_speechiness', 'acousticness_mean',\n",
    "                 'instrumentalness_mean', 'loudness_mean', 'tempo_mean']]\n",
    "X_max = df_fin[['energy_amax', 'speechiness_amax', 'tempo_amax', 'valence_amax', 'liveness_amax']]\n",
    "y = df_fin[['score_amax']]"
   ]
  },
  {
   "cell_type": "code",
   "execution_count": 44,
   "metadata": {},
   "outputs": [],
   "source": [
    "# splitting in train and test\n",
    "X_train_mean, X_test_mean, y_train_mean, y_test_mean = train_test_split(X_mean, y, test_size = 0.20, random_state = 36)\n",
    "X_train_max, X_test_max, y_train_max, y_test_max = train_test_split(X_max, y, test_size = 0.20, random_state = 36)"
   ]
  },
  {
   "cell_type": "code",
   "execution_count": 14,
   "metadata": {},
   "outputs": [],
   "source": [
    "# splitting in train and validation\n",
    "X_train_mean_v, X_val_mean, y_train_mean_v, y_val_mean = train_test_split(X_train_mean, y_train_mean, test_size = 0.20, random_state = 36)\n",
    "X_train_max_v, X_val_max, y_train_max_v, y_val_max = train_test_split(X_train_max, y_train_max, test_size = 0.20, random_state = 36)"
   ]
  },
  {
   "cell_type": "markdown",
   "metadata": {},
   "source": [
    "## Baseline Model: Linear Regression"
   ]
  },
  {
   "cell_type": "code",
   "execution_count": 15,
   "metadata": {},
   "outputs": [],
   "source": [
    "# instantiate the model\n",
    "lin_reg = LinearRegression()\n",
    "\n",
    "# fit the model to mean\n",
    "lin_reg_mean = lin_reg.fit(X_train_mean_v, y_train_mean_v)"
   ]
  },
  {
   "cell_type": "code",
   "execution_count": 16,
   "metadata": {},
   "outputs": [
    {
     "name": "stdout",
     "output_type": "stream",
     "text": [
      "R^2 for training mean set: 0.12204458022416087\n",
      "R^2 for validation mean set: -0.019252428814438227\n"
     ]
    }
   ],
   "source": [
    "print(f'R^2 for training mean set: {lin_reg_mean.score(X_train_mean_v, y_train_mean_v)}')\n",
    "print(f'R^2 for validation mean set: {lin_reg_mean.score(X_val_mean, y_val_mean)}')"
   ]
  },
  {
   "cell_type": "code",
   "execution_count": 17,
   "metadata": {},
   "outputs": [],
   "source": [
    "# fit the model to max\n",
    "lin_reg_max = lin_reg.fit(X_train_max_v, y_train_max_v)"
   ]
  },
  {
   "cell_type": "code",
   "execution_count": 18,
   "metadata": {},
   "outputs": [
    {
     "name": "stdout",
     "output_type": "stream",
     "text": [
      "R^2 for training mean set: 0.03009455161696206\n",
      "R^2 for validation mean set: 0.04680659892612583\n"
     ]
    }
   ],
   "source": [
    "print(f'R^2 for training mean set: {lin_reg_max.score(X_train_max_v, y_train_max_v)}')\n",
    "print(f'R^2 for validation mean set: {lin_reg_max.score(X_val_max, y_val_max)}')"
   ]
  },
  {
   "cell_type": "code",
   "execution_count": 19,
   "metadata": {},
   "outputs": [],
   "source": [
    "# mean set performs better than max set but the values are still too low to be relevant."
   ]
  },
  {
   "cell_type": "markdown",
   "metadata": {},
   "source": [
    "## Ridge Regression"
   ]
  },
  {
   "cell_type": "code",
   "execution_count": 20,
   "metadata": {},
   "outputs": [],
   "source": [
    "# instantiate the model\n",
    "ridge = Ridge()"
   ]
  },
  {
   "cell_type": "code",
   "execution_count": 21,
   "metadata": {},
   "outputs": [],
   "source": [
    "# fit the model to mean\n",
    "ridge_mean = ridge.fit(X_train_mean_v, y_train_mean_v)"
   ]
  },
  {
   "cell_type": "code",
   "execution_count": 22,
   "metadata": {},
   "outputs": [
    {
     "name": "stdout",
     "output_type": "stream",
     "text": [
      "R^2 for training mean set: 0.11880503762994622\n",
      "R^2 for validation mean set: -0.014062201575982813\n"
     ]
    }
   ],
   "source": [
    "print(f'R^2 for training mean set: {ridge_mean.score(X_train_mean_v, y_train_mean_v)}')\n",
    "print(f'R^2 for validation mean set: {ridge_mean.score(X_val_mean, y_val_mean)}')"
   ]
  },
  {
   "cell_type": "code",
   "execution_count": 23,
   "metadata": {},
   "outputs": [],
   "source": [
    "# fit the model to max\n",
    "ridge_max = ridge.fit(X_train_max_v, y_train_max_v)"
   ]
  },
  {
   "cell_type": "code",
   "execution_count": 24,
   "metadata": {},
   "outputs": [
    {
     "name": "stdout",
     "output_type": "stream",
     "text": [
      "R^2 for training mean set: 0.029636076999956962\n",
      "R^2 for validation mean set: 0.043752666720596634\n"
     ]
    }
   ],
   "source": [
    "print(f'R^2 for training mean set: {ridge_max.score(X_train_max_v, y_train_max_v)}')\n",
    "print(f'R^2 for validation mean set: {ridge_max.score(X_val_max, y_val_max)}')"
   ]
  },
  {
   "cell_type": "code",
   "execution_count": 25,
   "metadata": {},
   "outputs": [],
   "source": [
    "# Ridge unoptimized is yielding almost the same results as linear regression,\n",
    "# but we'll try to optimize some parameters through GridSearchCV"
   ]
  },
  {
   "cell_type": "markdown",
   "metadata": {},
   "source": [
    "### Parameter Optimization"
   ]
  },
  {
   "cell_type": "code",
   "execution_count": 67,
   "metadata": {},
   "outputs": [
    {
     "name": "stdout",
     "output_type": "stream",
     "text": [
      "Fitting 3 folds for each of 11 candidates, totalling 33 fits\n"
     ]
    },
    {
     "name": "stderr",
     "output_type": "stream",
     "text": [
      "[Parallel(n_jobs=-1)]: Using backend LokyBackend with 4 concurrent workers.\n"
     ]
    },
    {
     "name": "stdout",
     "output_type": "stream",
     "text": [
      "Best Score:  0.05905054942001387\n",
      "Best Params:  {'alpha': 0.1}\n"
     ]
    },
    {
     "name": "stderr",
     "output_type": "stream",
     "text": [
      "[Parallel(n_jobs=-1)]: Done  26 out of  33 | elapsed:    3.0s remaining:    0.8s\n",
      "[Parallel(n_jobs=-1)]: Done  33 out of  33 | elapsed:    3.0s finished\n"
     ]
    }
   ],
   "source": [
    "# optimizing alpha for mean set\n",
    "\n",
    "alpha = [0.001, 0.01, 0.1, 1, 10, 20, 30, 40, 50, 100, 1000]\n",
    "param_grid = dict(alpha=alpha)\n",
    "\n",
    "grid_mean = GridSearchCV(estimator=ridge, param_grid=param_grid, scoring='r2', verbose=1, n_jobs=-1)\n",
    "\n",
    "grid_mean.fit(X_train_mean_v, y_train_mean_v)\n",
    "#grid_result_mean = grid.fit(X_train_mean_v, y_train_mean_v)\n",
    "\n",
    "print('Best Score: ', grid_mean.best_score_)\n",
    "print('Best Params: ', grid_mean.best_params_)"
   ]
  },
  {
   "cell_type": "code",
   "execution_count": 72,
   "metadata": {},
   "outputs": [
    {
     "name": "stdout",
     "output_type": "stream",
     "text": [
      "Fitting 3 folds for each of 11 candidates, totalling 33 fits\n",
      "Best Score:  -0.014446802365933521\n",
      "Best Params:  {'alpha': 1000}\n"
     ]
    },
    {
     "name": "stderr",
     "output_type": "stream",
     "text": [
      "[Parallel(n_jobs=-1)]: Using backend LokyBackend with 4 concurrent workers.\n",
      "[Parallel(n_jobs=-1)]: Done  33 out of  33 | elapsed:    0.1s finished\n"
     ]
    }
   ],
   "source": [
    "# optimizing alpha for max set\n",
    "\n",
    "alpha = [0.001, 0.01, 0.1, 1, 10, 20, 30, 40, 50, 100, 1000]\n",
    "param_grid = dict(alpha=alpha)\n",
    "\n",
    "grid_max = GridSearchCV(estimator=ridge, param_grid=param_grid, scoring='r2', verbose=1, n_jobs=-1)\n",
    "\n",
    "grid_max.fit(X_train_max_v, y_train_max_v)\n",
    "\n",
    "print('Best Score: ', grid_max.best_score_)\n",
    "print('Best Params: ', grid_max.best_params_)"
   ]
  },
  {
   "cell_type": "code",
   "execution_count": 28,
   "metadata": {},
   "outputs": [],
   "source": [
    "# an alpha of 1000 seems a little disproportionate, I'm assuming that max value testing\n",
    "# is proving inconclusive from now on but will test with the new optimized alpha\n",
    "# to see if there's any improvement, especially against mean set tests\n"
   ]
  },
  {
   "cell_type": "code",
   "execution_count": 68,
   "metadata": {},
   "outputs": [],
   "source": [
    "ridge_mean_opt = grid_mean.best_estimator_"
   ]
  },
  {
   "cell_type": "code",
   "execution_count": 71,
   "metadata": {},
   "outputs": [
    {
     "name": "stdout",
     "output_type": "stream",
     "text": [
      "R^2 for training mean set: 0.1219513615074892\n",
      "R^2 for validation mean set: -0.017883214237984557\n"
     ]
    }
   ],
   "source": [
    "print(f'R^2 for training mean set: {ridge_mean_opt.score(X_train_mean_v, y_train_mean_v)}')\n",
    "print(f'R^2 for validation mean set: {ridge_mean_opt.score(X_val_mean, y_val_mean)}')"
   ]
  },
  {
   "cell_type": "code",
   "execution_count": 73,
   "metadata": {},
   "outputs": [],
   "source": [
    "ridge_max_opt = grid_max.best_estimator_"
   ]
  },
  {
   "cell_type": "code",
   "execution_count": 74,
   "metadata": {},
   "outputs": [
    {
     "name": "stdout",
     "output_type": "stream",
     "text": [
      "R^2 for training mean set: 0.0004536585124620407\n",
      "R^2 for validation mean set: -0.011431963096760313\n"
     ]
    }
   ],
   "source": [
    "print(f'R^2 for training mean set: {ridge_max_opt.score(X_train_max_v, y_train_max_v)}')\n",
    "print(f'R^2 for validation mean set: {ridge_max_opt.score(X_val_max, y_val_max)}')"
   ]
  },
  {
   "cell_type": "code",
   "execution_count": 35,
   "metadata": {},
   "outputs": [],
   "source": [
    "# optimized ridge for max set is performing even worse, will drop any test on max tests from now on"
   ]
  },
  {
   "cell_type": "markdown",
   "metadata": {},
   "source": [
    "## Model Selection and Final Test"
   ]
  },
  {
   "cell_type": "code",
   "execution_count": 36,
   "metadata": {},
   "outputs": [],
   "source": [
    "# Optimized ridge regression performed slightly better compared to regular linear regression.\n",
    "# negative values can probably be explained by a very small pool for the validation target,\n",
    "# but were still mitigated by the optimization."
   ]
  },
  {
   "cell_type": "code",
   "execution_count": 79,
   "metadata": {},
   "outputs": [
    {
     "name": "stdout",
     "output_type": "stream",
     "text": [
      "Test r^2: -0.09254583385082628 \n",
      "Test MSE: 0.9990058199925829\n"
     ]
    }
   ],
   "source": [
    "test_r_squared = ridge_mean_opt.score(X_test_mean, y_test_mean)\n",
    "\n",
    "y_pred_test = ridge_mean_opt.predict(X_test_mean)\n",
    "test_mse = np.sqrt(mean_squared_error(y_test_mean, y_pred_test))\n",
    "\n",
    "print(f'Test r^2: {test_r_squared} \\nTest MSE: {test_mse}')"
   ]
  },
  {
   "cell_type": "code",
   "execution_count": 80,
   "metadata": {},
   "outputs": [
    {
     "name": "stdout",
     "output_type": "stream",
     "text": [
      "The initial R-Squared value for the ridge model is: 0.122\n",
      "The Mean Squared Error value for the ridge model is: 0.9813\n",
      "The Mean Absolute Error value for the ridge model is: 0.7441\n"
     ]
    }
   ],
   "source": [
    "initial_score_r = ridge_mean_opt.score(X_train_mean_v, y_train_mean_v)\n",
    "print('The initial R-Squared value for the ridge model is:', initial_score_r.round(4))\n",
    "\n",
    "X_train_v_predidct_ridge = ridge_mean_opt.predict(X_train_mean_v)\n",
    "\n",
    "mse = mean_squared_error(y_train_mean_v, X_train_v_predidct_ridge)\n",
    "print('The Mean Squared Error value for the ridge model is:', mse.round(4))\n",
    "\n",
    "mae = mean_absolute_error(y_train_mean_v, X_train_v_predidct_ridge)\n",
    "print('The Mean Absolute Error value for the ridge model is:', mae.round(4))\n"
   ]
  },
  {
   "cell_type": "code",
   "execution_count": 82,
   "metadata": {},
   "outputs": [
    {
     "data": {
      "text/plain": [
       "-0.09254583385082628"
      ]
     },
     "execution_count": 82,
     "metadata": {},
     "output_type": "execute_result"
    }
   ],
   "source": [
    "#final model intialisation\n",
    "ridge_test = ridge_mean_opt.score(X_test_mean, y_test_mean)\n",
    "ridge_test"
   ]
  },
  {
   "cell_type": "markdown",
   "metadata": {},
   "source": [
    "# Conclusions"
   ]
  },
  {
   "cell_type": "markdown",
   "metadata": {},
   "source": [
    "Performance of the model was abysmal. The reasons can be the following:\n",
    "\n",
    "* Small testing samples \n",
    "Self explanatory: due to prior problems with gathering data from the spotify API and time constraints, I wasn't able to access a larger dataset that would have helped the model generalize better.\n",
    "\n",
    "* Genre mixing\n",
    "Different genres most probably need different characteristics to become popular, for example rap might need higher speechiness compared to electronic that will need higher danceability. With the dataset combining all the genres, the model was comparing too much different information between entries."
   ]
  },
  {
   "cell_type": "markdown",
   "metadata": {},
   "source": [
    "For future improvement, I advise on retrieving a larger dataset and run tests on isolated genres."
   ]
  },
  {
   "cell_type": "code",
   "execution_count": null,
   "metadata": {},
   "outputs": [],
   "source": []
  }
 ],
 "metadata": {
  "kernelspec": {
   "display_name": "Python 3",
   "language": "python",
   "name": "python3"
  },
  "language_info": {
   "codemirror_mode": {
    "name": "ipython",
    "version": 3
   },
   "file_extension": ".py",
   "mimetype": "text/x-python",
   "name": "python",
   "nbconvert_exporter": "python",
   "pygments_lexer": "ipython3",
   "version": "3.7.4"
  }
 },
 "nbformat": 4,
 "nbformat_minor": 2
}
